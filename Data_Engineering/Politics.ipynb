{
 "cells": [
  {
   "cell_type": "code",
   "execution_count": 72,
   "metadata": {},
   "outputs": [],
   "source": [
    "import pyspark"
   ]
  },
  {
   "cell_type": "code",
   "execution_count": 73,
   "metadata": {},
   "outputs": [],
   "source": [
    "from pyspark.sql import *\n",
    "from pyspark.sql import SparkSession"
   ]
  },
  {
   "cell_type": "code",
   "execution_count": 74,
   "metadata": {},
   "outputs": [],
   "source": [
    "import json"
   ]
  },
  {
   "cell_type": "code",
   "execution_count": 75,
   "metadata": {},
   "outputs": [],
   "source": [
    "import hashlib"
   ]
  },
  {
   "cell_type": "code",
   "execution_count": 76,
   "metadata": {},
   "outputs": [],
   "source": [
    "f = open('donation_np.json')\n",
    "data = json.load(f)"
   ]
  },
  {
   "cell_type": "code",
   "execution_count": 77,
   "metadata": {},
   "outputs": [],
   "source": [
    "spark = SparkSession \\\n",
    "    .builder \\\n",
    "    .appName(\"Python Spark Donation \") \\\n",
    "    .config(\"spark.some.config.option\", \"some-value\") \\\n",
    "    .getOrCreate()"
   ]
  },
  {
   "cell_type": "code",
   "execution_count": 78,
   "metadata": {},
   "outputs": [
    {
     "name": "stdout",
     "output_type": "stream",
     "text": [
      "root\n",
      " |-- Address: string (nullable = true)\n",
      " |-- Amount: string (nullable = true)\n",
      " |-- Contribution Mode: string (nullable = true)\n",
      " |-- Financial Year: string (nullable = true)\n",
      " |-- Name: string (nullable = true)\n",
      " |-- PAN Given: string (nullable = true)\n",
      " |-- Party: string (nullable = true)\n",
      " |-- Type: string (nullable = true)\n",
      " |-- _corrupt_record: string (nullable = true)\n",
      " |-- field10: string (nullable = true)\n",
      " |-- field11: string (nullable = true)\n",
      " |-- field12: string (nullable = true)\n",
      " |-- field13: string (nullable = true)\n",
      " |-- field14: string (nullable = true)\n",
      " |-- field9: string (nullable = true)\n",
      "\n",
      "+--------------------+--------+--------------------+--------------+--------------------+---------+------+------+---------------+-------+-------+-------+-------+-------+------+\n",
      "|             Address|  Amount|   Contribution Mode|Financial Year|                Name|PAN Given| Party|  Type|_corrupt_record|field10|field11|field12|field13|field14|field9|\n",
      "+--------------------+--------+--------------------+--------------+--------------------+---------+------+------+---------------+-------+-------+-------+-------+-------+------+\n",
      "|                null|    null|                null|          null|                null|     null|  null|  null|              [|   null|   null|   null|   null|   null|  null|\n",
      "|16-B, Ferozeshah ...| 3000000|                CASH|       2010-11|          Aziz Pasha|        Y|   CPI|Others|           null|       |       |       |       |       |      |\n",
      "|No.1, First Floor...|10000000|000037, HDFC Bank...|       2014-15|    V K Ramachandran|        Y|CPI(M)|Others|           null|       |       |       |       |       |      |\n",
      "|3, Motilal Nehru ...|  108000|Cheque, State Ban...|       2014-15|  Dr. Manmohan Singh|        N|   INC|Others|           null|       |       |       |       |       |      |\n",
      "|9,Firozshah Road ...|   54000|Through Bank Tran...|       2011-12| Dr. Manda Jagnathan|        N|   INC|Others|           null|       |       |       |       |       |      |\n",
      "|17,Dr.B.R.Mehta L...|   54000|Through Bank Tran...|       2011-12|    Prof. K.V.Thomas|        N|   INC|Others|           null|       |       |       |       |       |      |\n",
      "|31 Shamla Hills B...|  100000|          146865 SBI|       2011-12|     Sweta Chyouksey|        Y|   BJP|Others|           null|       |       |       |       |       |      |\n",
      "|45 Bunglows Bhopa...|  100000|          994966 SBI|       2011-12|   Uma Shankar Gupta|        N|   BJP|Others|           null|       |       |       |       |       |      |\n",
      "|                  --|   25000|14021,  Union Ban...|       2013-14|Parshwanath Bhakt...|        N|   BJP|Others|           null|       |       |       |       |       |      |\n",
      "|9 Santoshi Ayodhy...|  100000|          168278 SBI|       2011-12|Anand Constructio...|        Y|   BJP|Others|           null|       |       |       |       |       |      |\n",
      "|197, North Avenue...|   54000|       Bank Transfer|       2013-14|       Kamal Kashore|        N|   INC|Others|           null|       |       |       |       |       |      |\n",
      "|              Mumbai|  100000|955592 Bank Of In...|       2004-05|          R.V Pandit|        N|   BJP|Others|           null|       |       |       |       |       |      |\n",
      "|                  --|  100000|              430969|       2012-13|      A & T Infracon|        N|   BJP|Others|           null|       |       |       |       |       |      |\n",
      "|G/3 Phonix Buildi...|  300000|Cheque No.884045 ...|       2008-09|A 2 Z online  Ser...|        N|   BJP|Others|           null|       |       |       |       |       |      |\n",
      "|G/3 Phonix Buildi...|  200000|Cheque No-  88404...|       2008-09|A 2 Z online  Ser...|        N|   BJP|Others|           null|       |       |       |       |       |      |\n",
      "|G/3 Phonix Buildi...|  200000|Cheque No-  88404...|       2008-09|A 2 Z online  Ser...|        N|   BJP|Others|           null|       |       |       |       |       |      |\n",
      "|                  --|  125000|952450, Saraswat ...|       2012-13|A B Rolling Mills...|        N|   BJP|Others|           null|       |       |       |       |       |      |\n",
      "|82, Narbada Road ...|  100000|72437 Allahabad Bank|       2011-12|           A C Dixit|        N|   BJP|Others|           null|       |       |       |       |       |      |\n",
      "|S.F.S. Tirupati A...|  100000|174993, Union Ban...|       2014-15|        A D Builders|        Y|   BJP|Others|           null|       |       |       |       |       |      |\n",
      "|                  --|   21000|            234, BOI|       2012-13|               A Fox|        N|   BJP|Others|           null|       |       |       |       |       |      |\n",
      "+--------------------+--------+--------------------+--------------+--------------------+---------+------+------+---------------+-------+-------+-------+-------+-------+------+\n",
      "only showing top 20 rows\n",
      "\n"
     ]
    }
   ],
   "source": [
    "df = spark.read.json(\"donation_np.json\")\n",
    "df.printSchema()\n",
    "df.show()"
   ]
  },
  {
   "cell_type": "code",
   "execution_count": 79,
   "metadata": {},
   "outputs": [],
   "source": [
    "df = df.withColumnRenamed(\"Contribution Mode\",\"mode_of_payment\").withColumnRenamed(\"Financial Year\",\"fin_year\").withColumnRenamed(\"PAN Given\",\"pan_given\")"
   ]
  },
  {
   "cell_type": "code",
   "execution_count": 80,
   "metadata": {},
   "outputs": [
    {
     "name": "stdout",
     "output_type": "stream",
     "text": [
      "+--------------------+--------+--------------------+--------+--------------------+---------+------+------+---------------+-------+-------+-------+-------+-------+------+\n",
      "|             Address|  Amount|     mode_of_payment|fin_year|                Name|pan_given| Party|  Type|_corrupt_record|field10|field11|field12|field13|field14|field9|\n",
      "+--------------------+--------+--------------------+--------+--------------------+---------+------+------+---------------+-------+-------+-------+-------+-------+------+\n",
      "|                null|    null|                null|    null|                null|     null|  null|  null|              [|   null|   null|   null|   null|   null|  null|\n",
      "|16-B, Ferozeshah ...| 3000000|                CASH| 2010-11|          Aziz Pasha|        Y|   CPI|Others|           null|       |       |       |       |       |      |\n",
      "|No.1, First Floor...|10000000|000037, HDFC Bank...| 2014-15|    V K Ramachandran|        Y|CPI(M)|Others|           null|       |       |       |       |       |      |\n",
      "|3, Motilal Nehru ...|  108000|Cheque, State Ban...| 2014-15|  Dr. Manmohan Singh|        N|   INC|Others|           null|       |       |       |       |       |      |\n",
      "|9,Firozshah Road ...|   54000|Through Bank Tran...| 2011-12| Dr. Manda Jagnathan|        N|   INC|Others|           null|       |       |       |       |       |      |\n",
      "|17,Dr.B.R.Mehta L...|   54000|Through Bank Tran...| 2011-12|    Prof. K.V.Thomas|        N|   INC|Others|           null|       |       |       |       |       |      |\n",
      "|31 Shamla Hills B...|  100000|          146865 SBI| 2011-12|     Sweta Chyouksey|        Y|   BJP|Others|           null|       |       |       |       |       |      |\n",
      "|45 Bunglows Bhopa...|  100000|          994966 SBI| 2011-12|   Uma Shankar Gupta|        N|   BJP|Others|           null|       |       |       |       |       |      |\n",
      "|                  --|   25000|14021,  Union Ban...| 2013-14|Parshwanath Bhakt...|        N|   BJP|Others|           null|       |       |       |       |       |      |\n",
      "|9 Santoshi Ayodhy...|  100000|          168278 SBI| 2011-12|Anand Constructio...|        Y|   BJP|Others|           null|       |       |       |       |       |      |\n",
      "|197, North Avenue...|   54000|       Bank Transfer| 2013-14|       Kamal Kashore|        N|   INC|Others|           null|       |       |       |       |       |      |\n",
      "|              Mumbai|  100000|955592 Bank Of In...| 2004-05|          R.V Pandit|        N|   BJP|Others|           null|       |       |       |       |       |      |\n",
      "|                  --|  100000|              430969| 2012-13|      A & T Infracon|        N|   BJP|Others|           null|       |       |       |       |       |      |\n",
      "|G/3 Phonix Buildi...|  300000|Cheque No.884045 ...| 2008-09|A 2 Z online  Ser...|        N|   BJP|Others|           null|       |       |       |       |       |      |\n",
      "|G/3 Phonix Buildi...|  200000|Cheque No-  88404...| 2008-09|A 2 Z online  Ser...|        N|   BJP|Others|           null|       |       |       |       |       |      |\n",
      "|G/3 Phonix Buildi...|  200000|Cheque No-  88404...| 2008-09|A 2 Z online  Ser...|        N|   BJP|Others|           null|       |       |       |       |       |      |\n",
      "|                  --|  125000|952450, Saraswat ...| 2012-13|A B Rolling Mills...|        N|   BJP|Others|           null|       |       |       |       |       |      |\n",
      "|82, Narbada Road ...|  100000|72437 Allahabad Bank| 2011-12|           A C Dixit|        N|   BJP|Others|           null|       |       |       |       |       |      |\n",
      "|S.F.S. Tirupati A...|  100000|174993, Union Ban...| 2014-15|        A D Builders|        Y|   BJP|Others|           null|       |       |       |       |       |      |\n",
      "|                  --|   21000|            234, BOI| 2012-13|               A Fox|        N|   BJP|Others|           null|       |       |       |       |       |      |\n",
      "+--------------------+--------+--------------------+--------+--------------------+---------+------+------+---------------+-------+-------+-------+-------+-------+------+\n",
      "only showing top 20 rows\n",
      "\n"
     ]
    }
   ],
   "source": [
    "df.show()"
   ]
  },
  {
   "cell_type": "code",
   "execution_count": 81,
   "metadata": {},
   "outputs": [
    {
     "name": "stdout",
     "output_type": "stream",
     "text": [
      "+--------------------+--------+--------------------+--------+--------------------+---------+------+------+---------------+-------+-------+-------+-------+-------+------+\n",
      "|             Address|  Amount|     mode_of_payment|fin_year|                Name|pan_given| Party|  Type|_corrupt_record|field10|field11|field12|field13|field14|field9|\n",
      "+--------------------+--------+--------------------+--------+--------------------+---------+------+------+---------------+-------+-------+-------+-------+-------+------+\n",
      "|e3b0c44298fc1c149...|    null|                null|    null|                null|     null|  null|  null|              [|   null|   null|   null|   null|   null|  null|\n",
      "|5a3058deb6f337958...| 3000000|                CASH| 2010-11|          Aziz Pasha|        Y|   CPI|Others|           null|       |       |       |       |       |      |\n",
      "|846539cb21bc9e6c6...|10000000|000037, HDFC Bank...| 2014-15|    V K Ramachandran|        Y|CPI(M)|Others|           null|       |       |       |       |       |      |\n",
      "|869fa3a19f1c51ad1...|  108000|Cheque, State Ban...| 2014-15|  Dr. Manmohan Singh|        N|   INC|Others|           null|       |       |       |       |       |      |\n",
      "|5f04f40130569ddab...|   54000|Through Bank Tran...| 2011-12| Dr. Manda Jagnathan|        N|   INC|Others|           null|       |       |       |       |       |      |\n",
      "|524b1379d08e4c02f...|   54000|Through Bank Tran...| 2011-12|    Prof. K.V.Thomas|        N|   INC|Others|           null|       |       |       |       |       |      |\n",
      "|6db7af0c5dca3b333...|  100000|          146865 SBI| 2011-12|     Sweta Chyouksey|        Y|   BJP|Others|           null|       |       |       |       |       |      |\n",
      "|c01158e07376c3778...|  100000|          994966 SBI| 2011-12|   Uma Shankar Gupta|        N|   BJP|Others|           null|       |       |       |       |       |      |\n",
      "|d8156bae0c4243d37...|   25000|14021,  Union Ban...| 2013-14|Parshwanath Bhakt...|        N|   BJP|Others|           null|       |       |       |       |       |      |\n",
      "|15c64efe58b209e20...|  100000|          168278 SBI| 2011-12|Anand Constructio...|        Y|   BJP|Others|           null|       |       |       |       |       |      |\n",
      "|c8087c832dde2a1c4...|   54000|       Bank Transfer| 2013-14|       Kamal Kashore|        N|   INC|Others|           null|       |       |       |       |       |      |\n",
      "|9f2ba6981e36ea0fc...|  100000|955592 Bank Of In...| 2004-05|          R.V Pandit|        N|   BJP|Others|           null|       |       |       |       |       |      |\n",
      "|d8156bae0c4243d37...|  100000|              430969| 2012-13|      A & T Infracon|        N|   BJP|Others|           null|       |       |       |       |       |      |\n",
      "|9ed075605230cbb74...|  300000|Cheque No.884045 ...| 2008-09|A 2 Z online  Ser...|        N|   BJP|Others|           null|       |       |       |       |       |      |\n",
      "|4bc59ca1c387bfd59...|  200000|Cheque No-  88404...| 2008-09|A 2 Z online  Ser...|        N|   BJP|Others|           null|       |       |       |       |       |      |\n",
      "|4bc59ca1c387bfd59...|  200000|Cheque No-  88404...| 2008-09|A 2 Z online  Ser...|        N|   BJP|Others|           null|       |       |       |       |       |      |\n",
      "|d8156bae0c4243d37...|  125000|952450, Saraswat ...| 2012-13|A B Rolling Mills...|        N|   BJP|Others|           null|       |       |       |       |       |      |\n",
      "|a68f3334fbfbdf18b...|  100000|72437 Allahabad Bank| 2011-12|           A C Dixit|        N|   BJP|Others|           null|       |       |       |       |       |      |\n",
      "|e9552141c8f9ab365...|  100000|174993, Union Ban...| 2014-15|        A D Builders|        Y|   BJP|Others|           null|       |       |       |       |       |      |\n",
      "|d8156bae0c4243d37...|   21000|            234, BOI| 2012-13|               A Fox|        N|   BJP|Others|           null|       |       |       |       |       |      |\n",
      "+--------------------+--------+--------------------+--------+--------------------+---------+------+------+---------------+-------+-------+-------+-------+-------+------+\n",
      "only showing top 20 rows\n",
      "\n"
     ]
    }
   ],
   "source": [
    "from pyspark.sql.functions import sha2, concat_ws\n",
    "df = df.withColumn(\"Address\", sha2(concat_ws(\"||\", \"Address\"), 256))\n",
    "df.show()"
   ]
  },
  {
   "cell_type": "code",
   "execution_count": 82,
   "metadata": {},
   "outputs": [],
   "source": [
    "df = df.drop(\"_corrupt_record\",\"field10\",\"field11\",\"field12\",\"field13\",\"field14\",\"field9\")"
   ]
  },
  {
   "cell_type": "code",
   "execution_count": 83,
   "metadata": {},
   "outputs": [
    {
     "name": "stdout",
     "output_type": "stream",
     "text": [
      "+--------------------+--------+--------------------+--------+--------------------+---------+------+------+\n",
      "|             Address|  Amount|     mode_of_payment|fin_year|                Name|pan_given| Party|  Type|\n",
      "+--------------------+--------+--------------------+--------+--------------------+---------+------+------+\n",
      "|e3b0c44298fc1c149...|    null|                null|    null|                null|     null|  null|  null|\n",
      "|5a3058deb6f337958...| 3000000|                CASH| 2010-11|          Aziz Pasha|        Y|   CPI|Others|\n",
      "|846539cb21bc9e6c6...|10000000|000037, HDFC Bank...| 2014-15|    V K Ramachandran|        Y|CPI(M)|Others|\n",
      "|869fa3a19f1c51ad1...|  108000|Cheque, State Ban...| 2014-15|  Dr. Manmohan Singh|        N|   INC|Others|\n",
      "|5f04f40130569ddab...|   54000|Through Bank Tran...| 2011-12| Dr. Manda Jagnathan|        N|   INC|Others|\n",
      "|524b1379d08e4c02f...|   54000|Through Bank Tran...| 2011-12|    Prof. K.V.Thomas|        N|   INC|Others|\n",
      "|6db7af0c5dca3b333...|  100000|          146865 SBI| 2011-12|     Sweta Chyouksey|        Y|   BJP|Others|\n",
      "|c01158e07376c3778...|  100000|          994966 SBI| 2011-12|   Uma Shankar Gupta|        N|   BJP|Others|\n",
      "|d8156bae0c4243d37...|   25000|14021,  Union Ban...| 2013-14|Parshwanath Bhakt...|        N|   BJP|Others|\n",
      "|15c64efe58b209e20...|  100000|          168278 SBI| 2011-12|Anand Constructio...|        Y|   BJP|Others|\n",
      "|c8087c832dde2a1c4...|   54000|       Bank Transfer| 2013-14|       Kamal Kashore|        N|   INC|Others|\n",
      "|9f2ba6981e36ea0fc...|  100000|955592 Bank Of In...| 2004-05|          R.V Pandit|        N|   BJP|Others|\n",
      "|d8156bae0c4243d37...|  100000|              430969| 2012-13|      A & T Infracon|        N|   BJP|Others|\n",
      "|9ed075605230cbb74...|  300000|Cheque No.884045 ...| 2008-09|A 2 Z online  Ser...|        N|   BJP|Others|\n",
      "|4bc59ca1c387bfd59...|  200000|Cheque No-  88404...| 2008-09|A 2 Z online  Ser...|        N|   BJP|Others|\n",
      "|4bc59ca1c387bfd59...|  200000|Cheque No-  88404...| 2008-09|A 2 Z online  Ser...|        N|   BJP|Others|\n",
      "|d8156bae0c4243d37...|  125000|952450, Saraswat ...| 2012-13|A B Rolling Mills...|        N|   BJP|Others|\n",
      "|a68f3334fbfbdf18b...|  100000|72437 Allahabad Bank| 2011-12|           A C Dixit|        N|   BJP|Others|\n",
      "|e9552141c8f9ab365...|  100000|174993, Union Ban...| 2014-15|        A D Builders|        Y|   BJP|Others|\n",
      "|d8156bae0c4243d37...|   21000|            234, BOI| 2012-13|               A Fox|        N|   BJP|Others|\n",
      "+--------------------+--------+--------------------+--------+--------------------+---------+------+------+\n",
      "only showing top 20 rows\n",
      "\n"
     ]
    }
   ],
   "source": [
    "df.show()"
   ]
  },
  {
   "cell_type": "code",
   "execution_count": 84,
   "metadata": {},
   "outputs": [
    {
     "name": "stdout",
     "output_type": "stream",
     "text": [
      "+--------------------+--------+--------------------+--------+--------------------+---------+------+------+\n",
      "|             Address|  Amount|     mode_of_payment|fin_year|                Name|pan_given| Party|  Type|\n",
      "+--------------------+--------+--------------------+--------+--------------------+---------+------+------+\n",
      "|5a3058deb6f337958...| 3000000|                CASH| 2010-11|          Aziz Pasha|        Y|   CPI|Others|\n",
      "|846539cb21bc9e6c6...|10000000|000037, HDFC Bank...| 2014-15|    V K Ramachandran|        Y|CPI(M)|Others|\n",
      "|869fa3a19f1c51ad1...|  108000|Cheque, State Ban...| 2014-15|  Dr. Manmohan Singh|        N|   INC|Others|\n",
      "|5f04f40130569ddab...|   54000|Through Bank Tran...| 2011-12| Dr. Manda Jagnathan|        N|   INC|Others|\n",
      "|524b1379d08e4c02f...|   54000|Through Bank Tran...| 2011-12|    Prof. K.V.Thomas|        N|   INC|Others|\n",
      "|6db7af0c5dca3b333...|  100000|          146865 SBI| 2011-12|     Sweta Chyouksey|        Y|   BJP|Others|\n",
      "|c01158e07376c3778...|  100000|          994966 SBI| 2011-12|   Uma Shankar Gupta|        N|   BJP|Others|\n",
      "|d8156bae0c4243d37...|   25000|14021,  Union Ban...| 2013-14|Parshwanath Bhakt...|        N|   BJP|Others|\n",
      "|15c64efe58b209e20...|  100000|          168278 SBI| 2011-12|Anand Constructio...|        Y|   BJP|Others|\n",
      "|c8087c832dde2a1c4...|   54000|       Bank Transfer| 2013-14|       Kamal Kashore|        N|   INC|Others|\n",
      "|9f2ba6981e36ea0fc...|  100000|955592 Bank Of In...| 2004-05|          R.V Pandit|        N|   BJP|Others|\n",
      "|d8156bae0c4243d37...|  100000|              430969| 2012-13|      A & T Infracon|        N|   BJP|Others|\n",
      "|9ed075605230cbb74...|  300000|Cheque No.884045 ...| 2008-09|A 2 Z online  Ser...|        N|   BJP|Others|\n",
      "|4bc59ca1c387bfd59...|  200000|Cheque No-  88404...| 2008-09|A 2 Z online  Ser...|        N|   BJP|Others|\n",
      "|4bc59ca1c387bfd59...|  200000|Cheque No-  88404...| 2008-09|A 2 Z online  Ser...|        N|   BJP|Others|\n",
      "|d8156bae0c4243d37...|  125000|952450, Saraswat ...| 2012-13|A B Rolling Mills...|        N|   BJP|Others|\n",
      "|a68f3334fbfbdf18b...|  100000|72437 Allahabad Bank| 2011-12|           A C Dixit|        N|   BJP|Others|\n",
      "|e9552141c8f9ab365...|  100000|174993, Union Ban...| 2014-15|        A D Builders|        Y|   BJP|Others|\n",
      "|d8156bae0c4243d37...|   21000|            234, BOI| 2012-13|               A Fox|        N|   BJP|Others|\n",
      "|6f87e5d7cdf08271c...|  100000|Ch. No. 62063/dtd...| 2009-10|A Mahendra Jewellers|        Y|   INC|Others|\n",
      "+--------------------+--------+--------------------+--------+--------------------+---------+------+------+\n",
      "only showing top 20 rows\n",
      "\n"
     ]
    }
   ],
   "source": [
    "df = df.where(df.Name.isNotNull())\n",
    "df.show()"
   ]
  },
  {
   "cell_type": "code",
   "execution_count": 85,
   "metadata": {},
   "outputs": [],
   "source": [
    "from pyspark.sql.functions import lower, col, when, lit\n",
    "df = df.withColumn(\"mode_of_payment\", lower(col(\"mode_of_payment\")))"
   ]
  },
  {
   "cell_type": "code",
   "execution_count": 86,
   "metadata": {},
   "outputs": [
    {
     "name": "stdout",
     "output_type": "stream",
     "text": [
      "+--------------------+--------+--------------------+--------+--------------------+---------+------+------+\n",
      "|             Address|  Amount|     mode_of_payment|fin_year|                Name|pan_given| Party|  Type|\n",
      "+--------------------+--------+--------------------+--------+--------------------+---------+------+------+\n",
      "|5a3058deb6f337958...| 3000000|                cash| 2010-11|          Aziz Pasha|        Y|   CPI|Others|\n",
      "|846539cb21bc9e6c6...|10000000|000037, hdfc bank...| 2014-15|    V K Ramachandran|        Y|CPI(M)|Others|\n",
      "|869fa3a19f1c51ad1...|  108000|cheque, state ban...| 2014-15|  Dr. Manmohan Singh|        N|   INC|Others|\n",
      "|5f04f40130569ddab...|   54000|through bank tran...| 2011-12| Dr. Manda Jagnathan|        N|   INC|Others|\n",
      "|524b1379d08e4c02f...|   54000|through bank tran...| 2011-12|    Prof. K.V.Thomas|        N|   INC|Others|\n",
      "|6db7af0c5dca3b333...|  100000|          146865 sbi| 2011-12|     Sweta Chyouksey|        Y|   BJP|Others|\n",
      "|c01158e07376c3778...|  100000|          994966 sbi| 2011-12|   Uma Shankar Gupta|        N|   BJP|Others|\n",
      "|d8156bae0c4243d37...|   25000|14021,  union ban...| 2013-14|Parshwanath Bhakt...|        N|   BJP|Others|\n",
      "|15c64efe58b209e20...|  100000|          168278 sbi| 2011-12|Anand Constructio...|        Y|   BJP|Others|\n",
      "|c8087c832dde2a1c4...|   54000|       bank transfer| 2013-14|       Kamal Kashore|        N|   INC|Others|\n",
      "|9f2ba6981e36ea0fc...|  100000|955592 bank of in...| 2004-05|          R.V Pandit|        N|   BJP|Others|\n",
      "|d8156bae0c4243d37...|  100000|              430969| 2012-13|      A & T Infracon|        N|   BJP|Others|\n",
      "|9ed075605230cbb74...|  300000|cheque no.884045 ...| 2008-09|A 2 Z online  Ser...|        N|   BJP|Others|\n",
      "|4bc59ca1c387bfd59...|  200000|cheque no-  88404...| 2008-09|A 2 Z online  Ser...|        N|   BJP|Others|\n",
      "|4bc59ca1c387bfd59...|  200000|cheque no-  88404...| 2008-09|A 2 Z online  Ser...|        N|   BJP|Others|\n",
      "|d8156bae0c4243d37...|  125000|952450, saraswat ...| 2012-13|A B Rolling Mills...|        N|   BJP|Others|\n",
      "|a68f3334fbfbdf18b...|  100000|72437 allahabad bank| 2011-12|           A C Dixit|        N|   BJP|Others|\n",
      "|e9552141c8f9ab365...|  100000|174993, union ban...| 2014-15|        A D Builders|        Y|   BJP|Others|\n",
      "|d8156bae0c4243d37...|   21000|            234, boi| 2012-13|               A Fox|        N|   BJP|Others|\n",
      "|6f87e5d7cdf08271c...|  100000|ch. no. 62063/dtd...| 2009-10|A Mahendra Jewellers|        Y|   INC|Others|\n",
      "+--------------------+--------+--------------------+--------+--------------------+---------+------+------+\n",
      "only showing top 20 rows\n",
      "\n"
     ]
    }
   ],
   "source": [
    "df.show()"
   ]
  },
  {
   "cell_type": "code",
   "execution_count": 87,
   "metadata": {},
   "outputs": [
    {
     "name": "stdout",
     "output_type": "stream",
     "text": [
      "+--------------------+--------+---------------+--------+--------------------+---------+------+------+\n",
      "|             Address|  Amount|mode_of_payment|fin_year|                Name|pan_given| Party|  Type|\n",
      "+--------------------+--------+---------------+--------+--------------------+---------+------+------+\n",
      "|5a3058deb6f337958...| 3000000|           Cash| 2010-11|          Aziz Pasha|        Y|   CPI|Others|\n",
      "|846539cb21bc9e6c6...|10000000|           Bank| 2014-15|    V K Ramachandran|        Y|CPI(M)|Others|\n",
      "|869fa3a19f1c51ad1...|  108000|         Cheque| 2014-15|  Dr. Manmohan Singh|        N|   INC|Others|\n",
      "|5f04f40130569ddab...|   54000|           Bank| 2011-12| Dr. Manda Jagnathan|        N|   INC|Others|\n",
      "|524b1379d08e4c02f...|   54000|           Bank| 2011-12|    Prof. K.V.Thomas|        N|   INC|Others|\n",
      "|6db7af0c5dca3b333...|  100000|         Others| 2011-12|     Sweta Chyouksey|        Y|   BJP|Others|\n",
      "|c01158e07376c3778...|  100000|         Others| 2011-12|   Uma Shankar Gupta|        N|   BJP|Others|\n",
      "|d8156bae0c4243d37...|   25000|           Bank| 2013-14|Parshwanath Bhakt...|        N|   BJP|Others|\n",
      "|15c64efe58b209e20...|  100000|         Others| 2011-12|Anand Constructio...|        Y|   BJP|Others|\n",
      "|c8087c832dde2a1c4...|   54000|           Bank| 2013-14|       Kamal Kashore|        N|   INC|Others|\n",
      "|9f2ba6981e36ea0fc...|  100000|           Bank| 2004-05|          R.V Pandit|        N|   BJP|Others|\n",
      "|d8156bae0c4243d37...|  100000|         Others| 2012-13|      A & T Infracon|        N|   BJP|Others|\n",
      "|9ed075605230cbb74...|  300000|         Cheque| 2008-09|A 2 Z online  Ser...|        N|   BJP|Others|\n",
      "|4bc59ca1c387bfd59...|  200000|         Cheque| 2008-09|A 2 Z online  Ser...|        N|   BJP|Others|\n",
      "|4bc59ca1c387bfd59...|  200000|         Cheque| 2008-09|A 2 Z online  Ser...|        N|   BJP|Others|\n",
      "|d8156bae0c4243d37...|  125000|           Bank| 2012-13|A B Rolling Mills...|        N|   BJP|Others|\n",
      "|a68f3334fbfbdf18b...|  100000|           Bank| 2011-12|           A C Dixit|        N|   BJP|Others|\n",
      "|e9552141c8f9ab365...|  100000|           Bank| 2014-15|        A D Builders|        Y|   BJP|Others|\n",
      "|d8156bae0c4243d37...|   21000|         Others| 2012-13|               A Fox|        N|   BJP|Others|\n",
      "|6f87e5d7cdf08271c...|  100000|         Cheque| 2009-10|A Mahendra Jewellers|        Y|   INC|Others|\n",
      "+--------------------+--------+---------------+--------+--------------------+---------+------+------+\n",
      "only showing top 20 rows\n",
      "\n"
     ]
    }
   ],
   "source": [
    "df = df.withColumn(\"mode_of_payment\", when(col(\"mode_of_payment\").contains(\"cash\"),\"Cash\")\n",
    "      .when(col(\"mode_of_payment\").contains(\"cheque\"),\"Cheque\")\n",
    "      .when(col(\"mode_of_payment\").contains(\"ch.\"),\"Cheque\")\n",
    "      .when(col(\"mode_of_payment\").contains(\"bank\"),\"Bank\")\n",
    "      .otherwise(\"Others\"))\n",
    "\n",
    "df.show()"
   ]
  },
  {
   "cell_type": "code",
   "execution_count": 88,
   "metadata": {},
   "outputs": [
    {
     "name": "stdout",
     "output_type": "stream",
     "text": [
      "+------+-----------+------------+------------------+-----------+\n",
      "| Party|sum(Amount)|count(Party)|       avg(Amount)|max(Amount)|\n",
      "+------+-----------+------------+------------------+-----------+\n",
      "|   INC| 4031487349|        3785|1065122.1529722589|  500000000|\n",
      "|   BJP| 9295525996|        8782|1058474.8344340697|  500000000|\n",
      "|   NCP|  647911419|         107| 6055246.906542056|   50000000|\n",
      "|   CPI|   68123698|         384|177405.46354166666|    3000000|\n",
      "|CPI(M)|  150622128|         515| 292470.1514563107|   10000000|\n",
      "+------+-----------+------------+------------------+-----------+\n",
      "\n"
     ]
    }
   ],
   "source": [
    "from pyspark.sql.types import IntegerType\n",
    "from pyspark.sql import functions\n",
    "df = df.withColumn(\"Amount\",col(\"Amount\").cast(IntegerType()))\n",
    "cf = df.groupBy(\"Party\").agg(functions.sum(\"Amount\"),functions.count(\"Party\"),functions.avg(\"Amount\"),functions.max(\"Amount\"))\n",
    "cf.show()"
   ]
  },
  {
   "cell_type": "code",
   "execution_count": 89,
   "metadata": {},
   "outputs": [
    {
     "name": "stdout",
     "output_type": "stream",
     "text": [
      "+--------------------+--------+---------------+--------+--------------------+---------+------+------+-----------+-----------+-----------+-----------+--------------+-------------+-------------+-------------+-------------+----------------+------------------+------------------+-----------+------------------+-----------------+-----------+-----------+-----------+-----------+--------------+\n",
      "|             Address|  Amount|mode_of_payment|fin_year|                Name|pan_given| Party|  Type|INC_SUM_LTD|BJP_SUM_LTD|NCP_SUM_LTD|CPI_SUM_LTD|CPI(M)_SUM_LTD|INC_COUNT_LTD|BJP_COUNT_LTD|NCP_COUNT_LTD|CPI_COUNT_LTD|CPI(M)_COUNT_LTD|       INC_AVG_LTD|       BJP_AVG_LTD|NCP_AVG_LTD|       CPI_AVG_LTD|   CPI(M)_AVG_LTD|INC_MAX_LTD|BJP_MAX_LTD|NCP_MAX_LTD|CPI_MAX_LTD|CPI(M)_MAX_LTD|\n",
      "+--------------------+--------+---------------+--------+--------------------+---------+------+------+-----------+-----------+-----------+-----------+--------------+-------------+-------------+-------------+-------------+----------------+------------------+------------------+-----------+------------------+-----------------+-----------+-----------+-----------+-----------+--------------+\n",
      "|5a3058deb6f337958...| 3000000|           Cash| 2010-11|          Aziz Pasha|        Y|   CPI|Others|          0|          0|          0|   68123698|             0|            0|            0|            0|          384|               0|               0.0|               0.0|        0.0|177405.46354166666|              0.0|          0|          0|          0|    3000000|             0|\n",
      "|846539cb21bc9e6c6...|10000000|           Bank| 2014-15|    V K Ramachandran|        Y|CPI(M)|Others|          0|          0|          0|          0|     150622128|            0|            0|            0|            0|             515|               0.0|               0.0|        0.0|               0.0|292470.1514563107|          0|          0|          0|          0|      10000000|\n",
      "|869fa3a19f1c51ad1...|  108000|         Cheque| 2014-15|  Dr. Manmohan Singh|        N|   INC|Others| 4031487349|          0|          0|          0|             0|         3785|            0|            0|            0|               0|1065122.1529722589|               0.0|        0.0|               0.0|              0.0|  500000000|          0|          0|          0|             0|\n",
      "|5f04f40130569ddab...|   54000|           Bank| 2011-12| Dr. Manda Jagnathan|        N|   INC|Others| 4031487349|          0|          0|          0|             0|         3785|            0|            0|            0|               0|1065122.1529722589|               0.0|        0.0|               0.0|              0.0|  500000000|          0|          0|          0|             0|\n",
      "|524b1379d08e4c02f...|   54000|           Bank| 2011-12|    Prof. K.V.Thomas|        N|   INC|Others| 4031487349|          0|          0|          0|             0|         3785|            0|            0|            0|               0|1065122.1529722589|               0.0|        0.0|               0.0|              0.0|  500000000|          0|          0|          0|             0|\n",
      "|6db7af0c5dca3b333...|  100000|         Others| 2011-12|     Sweta Chyouksey|        Y|   BJP|Others|          0| 9295525996|          0|          0|             0|            0|         8782|            0|            0|               0|               0.0|1058474.8344340697|        0.0|               0.0|              0.0|          0|  500000000|          0|          0|             0|\n",
      "|c01158e07376c3778...|  100000|         Others| 2011-12|   Uma Shankar Gupta|        N|   BJP|Others|          0| 9295525996|          0|          0|             0|            0|         8782|            0|            0|               0|               0.0|1058474.8344340697|        0.0|               0.0|              0.0|          0|  500000000|          0|          0|             0|\n",
      "|d8156bae0c4243d37...|   25000|           Bank| 2013-14|Parshwanath Bhakt...|        N|   BJP|Others|          0| 9295525996|          0|          0|             0|            0|         8782|            0|            0|               0|               0.0|1058474.8344340697|        0.0|               0.0|              0.0|          0|  500000000|          0|          0|             0|\n",
      "|15c64efe58b209e20...|  100000|         Others| 2011-12|Anand Constructio...|        Y|   BJP|Others|          0| 9295525996|          0|          0|             0|            0|         8782|            0|            0|               0|               0.0|1058474.8344340697|        0.0|               0.0|              0.0|          0|  500000000|          0|          0|             0|\n",
      "|c8087c832dde2a1c4...|   54000|           Bank| 2013-14|       Kamal Kashore|        N|   INC|Others| 4031487349|          0|          0|          0|             0|         3785|            0|            0|            0|               0|1065122.1529722589|               0.0|        0.0|               0.0|              0.0|  500000000|          0|          0|          0|             0|\n",
      "|9f2ba6981e36ea0fc...|  100000|           Bank| 2004-05|          R.V Pandit|        N|   BJP|Others|          0| 9295525996|          0|          0|             0|            0|         8782|            0|            0|               0|               0.0|1058474.8344340697|        0.0|               0.0|              0.0|          0|  500000000|          0|          0|             0|\n",
      "|d8156bae0c4243d37...|  100000|         Others| 2012-13|      A & T Infracon|        N|   BJP|Others|          0| 9295525996|          0|          0|             0|            0|         8782|            0|            0|               0|               0.0|1058474.8344340697|        0.0|               0.0|              0.0|          0|  500000000|          0|          0|             0|\n",
      "|9ed075605230cbb74...|  300000|         Cheque| 2008-09|A 2 Z online  Ser...|        N|   BJP|Others|          0| 9295525996|          0|          0|             0|            0|         8782|            0|            0|               0|               0.0|1058474.8344340697|        0.0|               0.0|              0.0|          0|  500000000|          0|          0|             0|\n",
      "|4bc59ca1c387bfd59...|  200000|         Cheque| 2008-09|A 2 Z online  Ser...|        N|   BJP|Others|          0| 9295525996|          0|          0|             0|            0|         8782|            0|            0|               0|               0.0|1058474.8344340697|        0.0|               0.0|              0.0|          0|  500000000|          0|          0|             0|\n",
      "|4bc59ca1c387bfd59...|  200000|         Cheque| 2008-09|A 2 Z online  Ser...|        N|   BJP|Others|          0| 9295525996|          0|          0|             0|            0|         8782|            0|            0|               0|               0.0|1058474.8344340697|        0.0|               0.0|              0.0|          0|  500000000|          0|          0|             0|\n",
      "|d8156bae0c4243d37...|  125000|           Bank| 2012-13|A B Rolling Mills...|        N|   BJP|Others|          0| 9295525996|          0|          0|             0|            0|         8782|            0|            0|               0|               0.0|1058474.8344340697|        0.0|               0.0|              0.0|          0|  500000000|          0|          0|             0|\n",
      "|a68f3334fbfbdf18b...|  100000|           Bank| 2011-12|           A C Dixit|        N|   BJP|Others|          0| 9295525996|          0|          0|             0|            0|         8782|            0|            0|               0|               0.0|1058474.8344340697|        0.0|               0.0|              0.0|          0|  500000000|          0|          0|             0|\n",
      "|e9552141c8f9ab365...|  100000|           Bank| 2014-15|        A D Builders|        Y|   BJP|Others|          0| 9295525996|          0|          0|             0|            0|         8782|            0|            0|               0|               0.0|1058474.8344340697|        0.0|               0.0|              0.0|          0|  500000000|          0|          0|             0|\n",
      "|d8156bae0c4243d37...|   21000|         Others| 2012-13|               A Fox|        N|   BJP|Others|          0| 9295525996|          0|          0|             0|            0|         8782|            0|            0|               0|               0.0|1058474.8344340697|        0.0|               0.0|              0.0|          0|  500000000|          0|          0|             0|\n",
      "|6f87e5d7cdf08271c...|  100000|         Cheque| 2009-10|A Mahendra Jewellers|        Y|   INC|Others| 4031487349|          0|          0|          0|             0|         3785|            0|            0|            0|               0|1065122.1529722589|               0.0|        0.0|               0.0|              0.0|  500000000|          0|          0|          0|             0|\n",
      "+--------------------+--------+---------------+--------+--------------------+---------+------+------+-----------+-----------+-----------+-----------+--------------+-------------+-------------+-------------+-------------+----------------+------------------+------------------+-----------+------------------+-----------------+-----------+-----------+-----------+-----------+--------------+\n",
      "only showing top 20 rows\n",
      "\n"
     ]
    }
   ],
   "source": [
    "#Aggregate Functions\n",
    "\n",
    "def GetValueFromDataframe(df,columnName):\n",
    "    a = []\n",
    "    for row in df.rdd.collect():       \n",
    "        a.append(row[columnName])\n",
    "    return a\n",
    "\n",
    "sum_arr = GetValueFromDataframe(cf,\"sum(Amount)\")\n",
    "count_arr = GetValueFromDataframe(cf,\"count(Party)\")\n",
    "avg_arr = GetValueFromDataframe(cf,\"avg(Amount)\")\n",
    "max_arr = GetValueFromDataframe(cf,\"max(Amount)\")\n",
    "party_arr = GetValueFromDataframe(cf,\"Party\")\n",
    "\n",
    "i = 0\n",
    "j = 0\n",
    "\n",
    "party_arr_end = [\"_SUM_LTD\",\"_COUNT_LTD\",\"_AVG_LTD\",\"_MAX_LTD\"]\n",
    "agg_values = [sum_arr,count_arr,avg_arr,max_arr]\n",
    "\n",
    "while i < 4:\n",
    "    while j < len(party_arr):\n",
    "        col_name = party_arr[j] + party_arr_end[i]\n",
    "        df = df.withColumn(col_name,lit(0))\n",
    "        df = df.withColumn(col_name, when(col(\"Party\") == party_arr[j],agg_values[i][j])\n",
    "        .otherwise(0))\n",
    "        j += 1\n",
    "    \n",
    "    j = 0\n",
    "    i += 1\n",
    "\n",
    "df.show()"
   ]
  },
  {
   "cell_type": "code",
   "execution_count": 90,
   "metadata": {},
   "outputs": [],
   "source": [
    "inc_top_donor = df.filter(df[\"Amount\"] == max_arr[0]).select(\"Name\").collect()[0][0]\n",
    "\n",
    "bjp_top_donor = df.filter(df[\"Amount\"] == max_arr[1]).select(\"Name\").collect()[0][0]\n",
    "\n",
    "ncp_top_donor = df.filter(df[\"Amount\"] == max_arr[2]).select(\"Name\").collect()[0][0]\n",
    "\n",
    "cpi_top_donor = df.filter(df[\"Amount\"] == max_arr[3]).select(\"Name\").collect()[0][0]\n",
    "\n",
    "cpi_m_top_donor = df.filter(df[\"Amount\"] == max_arr[4]).select(\"Name\").collect()[0][0]\n"
   ]
  },
  {
   "cell_type": "code",
   "execution_count": 91,
   "metadata": {},
   "outputs": [
    {
     "name": "stdout",
     "output_type": "stream",
     "text": [
      "+------+--------------------+--------------------+-------------+-------------+----------------+\n",
      "| Party|       INC_TOP_DONOR|       BJP_TOP_DONOR|NCP_TOP_DONOR|CPI_TOP_DONOR|CPI(M)_TOP_DONOR|\n",
      "+------+--------------------+--------------------+-------------+-------------+----------------+\n",
      "|   CPI|                   0|                   0|            0|   Aziz Pasha|               0|\n",
      "|CPI(M)|                   0|                   0|            0|            0|V K Ramachandran|\n",
      "|   INC|General Electoral...|                   0|            0|            0|               0|\n",
      "|   INC|General Electoral...|                   0|            0|            0|               0|\n",
      "|   INC|General Electoral...|                   0|            0|            0|               0|\n",
      "|   BJP|                   0|General Electoral...|            0|            0|               0|\n",
      "|   BJP|                   0|General Electoral...|            0|            0|               0|\n",
      "|   BJP|                   0|General Electoral...|            0|            0|               0|\n",
      "|   BJP|                   0|General Electoral...|            0|            0|               0|\n",
      "|   INC|General Electoral...|                   0|            0|            0|               0|\n",
      "|   BJP|                   0|General Electoral...|            0|            0|               0|\n",
      "|   BJP|                   0|General Electoral...|            0|            0|               0|\n",
      "|   BJP|                   0|General Electoral...|            0|            0|               0|\n",
      "|   BJP|                   0|General Electoral...|            0|            0|               0|\n",
      "|   BJP|                   0|General Electoral...|            0|            0|               0|\n",
      "|   BJP|                   0|General Electoral...|            0|            0|               0|\n",
      "|   BJP|                   0|General Electoral...|            0|            0|               0|\n",
      "|   BJP|                   0|General Electoral...|            0|            0|               0|\n",
      "|   BJP|                   0|General Electoral...|            0|            0|               0|\n",
      "|   INC|General Electoral...|                   0|            0|            0|               0|\n",
      "+------+--------------------+--------------------+-------------+-------------+----------------+\n",
      "only showing top 20 rows\n",
      "\n"
     ]
    }
   ],
   "source": [
    "i = 0\n",
    "\n",
    "top_donor_arr = [inc_top_donor,bjp_top_donor,ncp_top_donor,cpi_top_donor,cpi_m_top_donor]\n",
    "\n",
    "while i < 5:\n",
    "    col_name = party_arr[i] + \"_TOP_DONOR\"\n",
    "    df = df.withColumn(col_name,lit(0))\n",
    "    df = df.withColumn(col_name, when(col(\"Party\") == party_arr[i],top_donor_arr[i])\n",
    "    .otherwise(0))\n",
    "    i += 1\n",
    "\n",
    "df.select(\"Party\",\"INC_TOP_DONOR\",\"BJP_TOP_DONOR\",\"NCP_TOP_DONOR\",\"CPI_TOP_DONOR\",\"CPI(M)_TOP_DONOR\").show()"
   ]
  },
  {
   "cell_type": "code",
   "execution_count": 92,
   "metadata": {},
   "outputs": [
    {
     "name": "stdout",
     "output_type": "stream",
     "text": [
      "+------+--------+-----------+\n",
      "| Party|fin_year|sum(Amount)|\n",
      "+------+--------+-----------+\n",
      "|   INC| 2003-04|   28301101|\n",
      "|CPI(M)| 2003-04|     200000|\n",
      "|   BJP| 2003-04|  116881973|\n",
      "|   CPI| 2003-04|     779148|\n",
      "|   INC| 2004-05|  320555643|\n",
      "|CPI(M)| 2004-05|     896355|\n",
      "|   CPI| 2004-05|     630000|\n",
      "|   BJP| 2004-05|  339521289|\n",
      "|   CPI| 2005-06|    3988690|\n",
      "|   BJP| 2005-06|   36156111|\n",
      "|CPI(M)| 2005-06|     550000|\n",
      "|   INC| 2005-06|   59212492|\n",
      "|CPI(M)| 2006-07|    1124719|\n",
      "|   BJP| 2006-07|   29550672|\n",
      "|   INC| 2006-07|  121273513|\n",
      "|   CPI| 2006-07|    1229400|\n",
      "|   CPI| 2007-08|    4125800|\n",
      "|CPI(M)| 2007-08|    7226116|\n",
      "|   BJP| 2007-08|  249623653|\n",
      "|   NCP| 2007-08|   10225000|\n",
      "+------+--------+-----------+\n",
      "only showing top 20 rows\n",
      "\n"
     ]
    }
   ],
   "source": [
    "sdon = df.groupBy(\"Party\",\"fin_year\").sum(\"Amount\").sort(\"fin_year\")\n",
    "sdon.show()"
   ]
  },
  {
   "cell_type": "code",
   "execution_count": 93,
   "metadata": {},
   "outputs": [
    {
     "name": "stdout",
     "output_type": "stream",
     "text": [
      "+--------------------+--------+---------------+--------+--------------------+---------+------+------+-----------+-----------+-----------+-----------+--------------+-------------+-------------+-------------+-------------+----------------+------------------+------------------+-----------+------------------+-----------------+-----------+-----------+-----------+-----------+--------------+--------------------+--------------------+-------------+-------------+----------------+---------------+---------------+---------------+------------------+---------------+------------------+---------------+---------------+------------------+---------------+---------------+---------------+---------------+------------------+---------------+---------------+---------------+---------------+---------------+------------------+---------------+---------------+------------------+---------------+---------------+---------------+---------------+------------------+---------------+---------------+---------------+---------------+---------------+---------------+---------------+------------------+------------------+---------------+---------------+---------------+---------------+---------------+---------------+---------------+------------------+---------------+---------------+---------------+---------------+------------------+---------------+---------------+---------------+---------------+------------------+---------------+\n",
      "|             Address|  Amount|mode_of_payment|fin_year|                Name|pan_given| Party|  Type|INC_SUM_LTD|BJP_SUM_LTD|NCP_SUM_LTD|CPI_SUM_LTD|CPI(M)_SUM_LTD|INC_COUNT_LTD|BJP_COUNT_LTD|NCP_COUNT_LTD|CPI_COUNT_LTD|CPI(M)_COUNT_LTD|       INC_AVG_LTD|       BJP_AVG_LTD|NCP_AVG_LTD|       CPI_AVG_LTD|   CPI(M)_AVG_LTD|INC_MAX_LTD|BJP_MAX_LTD|NCP_MAX_LTD|CPI_MAX_LTD|CPI(M)_MAX_LTD|       INC_TOP_DONOR|       BJP_TOP_DONOR|NCP_TOP_DONOR|CPI_TOP_DONOR|CPI(M)_TOP_DONOR|2003-04_BJP_SUM|2003-04_CPI_SUM|2003-04_INC_SUM|2003-04_CPI(M)_SUM|2004-05_INC_SUM|2004-05_CPI(M)_SUM|2004-05_CPI_SUM|2004-05_BJP_SUM|2005-06_CPI(M)_SUM|2005-06_BJP_SUM|2005-06_INC_SUM|2005-06_CPI_SUM|2006-07_INC_SUM|2006-07_CPI(M)_SUM|2006-07_BJP_SUM|2006-07_CPI_SUM|2007-08_CPI_SUM|2007-08_BJP_SUM|2007-08_NCP_SUM|2007-08_CPI(M)_SUM|2007-08_INC_SUM|2008-09_BJP_SUM|2008-09_CPI(M)_SUM|2008-09_CPI_SUM|2008-09_NCP_SUM|2008-09_INC_SUM|2009-10_BJP_SUM|2009-10_CPI(M)_SUM|2009-10_NCP_SUM|2009-10_CPI_SUM|2009-10_INC_SUM|2010-11_BJP_SUM|2010-11_NCP_SUM|2010-11_INC_SUM|2010-11_CPI_SUM|2010-11_CPI(M)_SUM|2011-12_CPI(M)_SUM|2011-12_BJP_SUM|2011-12_CPI_SUM|2011-12_INC_SUM|2011-12_NCP_SUM|2012-13_CPI_SUM|2012-13_NCP_SUM|2012-13_INC_SUM|2012-13_CPI(M)_SUM|2012-13_BJP_SUM|2013-14_INC_SUM|2013-14_NCP_SUM|2013-14_BJP_SUM|2013-14_CPI(M)_SUM|2013-14_CPI_SUM|2014-15_INC_SUM|2014-15_NCP_SUM|2014-15_BJP_SUM|2014-15_CPI(M)_SUM|2014-15_CPI_SUM|\n",
      "+--------------------+--------+---------------+--------+--------------------+---------+------+------+-----------+-----------+-----------+-----------+--------------+-------------+-------------+-------------+-------------+----------------+------------------+------------------+-----------+------------------+-----------------+-----------+-----------+-----------+-----------+--------------+--------------------+--------------------+-------------+-------------+----------------+---------------+---------------+---------------+------------------+---------------+------------------+---------------+---------------+------------------+---------------+---------------+---------------+---------------+------------------+---------------+---------------+---------------+---------------+---------------+------------------+---------------+---------------+------------------+---------------+---------------+---------------+---------------+------------------+---------------+---------------+---------------+---------------+---------------+---------------+---------------+------------------+------------------+---------------+---------------+---------------+---------------+---------------+---------------+---------------+------------------+---------------+---------------+---------------+---------------+------------------+---------------+---------------+---------------+---------------+------------------+---------------+\n",
      "|5a3058deb6f337958...| 3000000|           Cash| 2010-11|          Aziz Pasha|        Y|   CPI|Others|          0|          0|          0|   68123698|             0|            0|            0|            0|          384|               0|               0.0|               0.0|        0.0|177405.46354166666|              0.0|          0|          0|          0|    3000000|             0|                   0|                   0|            0|   Aziz Pasha|               0|              -|         779148|              -|                 -|              -|                 -|         630000|              -|                 -|              -|              -|        3988690|              -|                 -|              -|        1229400|        4125800|              -|              -|                 -|              -|              -|                 -|        2585000|              -|              -|              -|                 -|              -|        8667852|              -|              -|              -|              -|       10811465|                 -|                 -|              -|        5982675|              -|              -|        3695449|              -|              -|                 -|              -|              -|              -|              -|                 -|       12281544|              -|              -|              -|                 -|       13346675|\n",
      "|846539cb21bc9e6c6...|10000000|           Bank| 2014-15|    V K Ramachandran|        Y|CPI(M)|Others|          0|          0|          0|          0|     150622128|            0|            0|            0|            0|             515|               0.0|               0.0|        0.0|               0.0|292470.1514563107|          0|          0|          0|          0|      10000000|                   0|                   0|            0|            0|V K Ramachandran|              -|              -|              -|            200000|              -|            896355|              -|              -|            550000|              -|              -|              -|              -|           1124719|              -|              -|              -|              -|              -|           7226116|              -|              -|           4155000|              -|              -|              -|              -|           3962049|              -|              -|              -|              -|              -|              -|              -|          15357072|          23838657|              -|              -|              -|              -|              -|              -|              -|          38139996|              -|              -|              -|              -|          20974666|              -|              -|              -|              -|          34197498|              -|\n",
      "|869fa3a19f1c51ad1...|  108000|         Cheque| 2014-15|  Dr. Manmohan Singh|        N|   INC|Others| 4031487349|          0|          0|          0|             0|         3785|            0|            0|            0|               0|1065122.1529722589|               0.0|        0.0|               0.0|              0.0|  500000000|          0|          0|          0|             0|General Electoral...|                   0|            0|            0|               0|              -|              -|       28301101|                 -|      320555643|                 -|              -|              -|                 -|              -|       59212492|              -|      121273513|                 -|              -|              -|              -|              -|              -|                 -|       78873451|              -|                 -|              -|              -|      279018460|              -|                 -|              -|              -|      840521238|              -|              -|       80205884|              -|                 -|                 -|              -|              -|       95910664|              -|              -|              -|      117166225|                 -|              -|      595837728|              -|              -|                 -|              -|     1414610950|              -|              -|                 -|              -|\n",
      "|5f04f40130569ddab...|   54000|           Bank| 2011-12| Dr. Manda Jagnathan|        N|   INC|Others| 4031487349|          0|          0|          0|             0|         3785|            0|            0|            0|               0|1065122.1529722589|               0.0|        0.0|               0.0|              0.0|  500000000|          0|          0|          0|             0|General Electoral...|                   0|            0|            0|               0|              -|              -|       28301101|                 -|      320555643|                 -|              -|              -|                 -|              -|       59212492|              -|      121273513|                 -|              -|              -|              -|              -|              -|                 -|       78873451|              -|                 -|              -|              -|      279018460|              -|                 -|              -|              -|      840521238|              -|              -|       80205884|              -|                 -|                 -|              -|              -|       95910664|              -|              -|              -|      117166225|                 -|              -|      595837728|              -|              -|                 -|              -|     1414610950|              -|              -|                 -|              -|\n",
      "|524b1379d08e4c02f...|   54000|           Bank| 2011-12|    Prof. K.V.Thomas|        N|   INC|Others| 4031487349|          0|          0|          0|             0|         3785|            0|            0|            0|               0|1065122.1529722589|               0.0|        0.0|               0.0|              0.0|  500000000|          0|          0|          0|             0|General Electoral...|                   0|            0|            0|               0|              -|              -|       28301101|                 -|      320555643|                 -|              -|              -|                 -|              -|       59212492|              -|      121273513|                 -|              -|              -|              -|              -|              -|                 -|       78873451|              -|                 -|              -|              -|      279018460|              -|                 -|              -|              -|      840521238|              -|              -|       80205884|              -|                 -|                 -|              -|              -|       95910664|              -|              -|              -|      117166225|                 -|              -|      595837728|              -|              -|                 -|              -|     1414610950|              -|              -|                 -|              -|\n",
      "|6db7af0c5dca3b333...|  100000|         Others| 2011-12|     Sweta Chyouksey|        Y|   BJP|Others|          0| 9295525996|          0|          0|             0|            0|         8782|            0|            0|               0|               0.0|1058474.8344340697|        0.0|               0.0|              0.0|          0|  500000000|          0|          0|             0|                   0|General Electoral...|            0|            0|               0|      116881973|              -|              -|                 -|              -|                 -|              -|      339521289|                 -|       36156111|              -|              -|              -|                 -|       29550672|              -|              -|      249623653|              -|                 -|              -|      306057231|                 -|              -|              -|              -|      823220133|                 -|              -|              -|              -|      146253279|              -|              -|              -|                 -|                 -|      334194113|              -|              -|              -|              -|              -|              -|                 -|      831924462|              -|              -|     1708636182|                 -|              -|              -|              -|     4373506898|                 -|              -|\n",
      "|c01158e07376c3778...|  100000|         Others| 2011-12|   Uma Shankar Gupta|        N|   BJP|Others|          0| 9295525996|          0|          0|             0|            0|         8782|            0|            0|               0|               0.0|1058474.8344340697|        0.0|               0.0|              0.0|          0|  500000000|          0|          0|             0|                   0|General Electoral...|            0|            0|               0|      116881973|              -|              -|                 -|              -|                 -|              -|      339521289|                 -|       36156111|              -|              -|              -|                 -|       29550672|              -|              -|      249623653|              -|                 -|              -|      306057231|                 -|              -|              -|              -|      823220133|                 -|              -|              -|              -|      146253279|              -|              -|              -|                 -|                 -|      334194113|              -|              -|              -|              -|              -|              -|                 -|      831924462|              -|              -|     1708636182|                 -|              -|              -|              -|     4373506898|                 -|              -|\n",
      "|d8156bae0c4243d37...|   25000|           Bank| 2013-14|Parshwanath Bhakt...|        N|   BJP|Others|          0| 9295525996|          0|          0|             0|            0|         8782|            0|            0|               0|               0.0|1058474.8344340697|        0.0|               0.0|              0.0|          0|  500000000|          0|          0|             0|                   0|General Electoral...|            0|            0|               0|      116881973|              -|              -|                 -|              -|                 -|              -|      339521289|                 -|       36156111|              -|              -|              -|                 -|       29550672|              -|              -|      249623653|              -|                 -|              -|      306057231|                 -|              -|              -|              -|      823220133|                 -|              -|              -|              -|      146253279|              -|              -|              -|                 -|                 -|      334194113|              -|              -|              -|              -|              -|              -|                 -|      831924462|              -|              -|     1708636182|                 -|              -|              -|              -|     4373506898|                 -|              -|\n",
      "|15c64efe58b209e20...|  100000|         Others| 2011-12|Anand Constructio...|        Y|   BJP|Others|          0| 9295525996|          0|          0|             0|            0|         8782|            0|            0|               0|               0.0|1058474.8344340697|        0.0|               0.0|              0.0|          0|  500000000|          0|          0|             0|                   0|General Electoral...|            0|            0|               0|      116881973|              -|              -|                 -|              -|                 -|              -|      339521289|                 -|       36156111|              -|              -|              -|                 -|       29550672|              -|              -|      249623653|              -|                 -|              -|      306057231|                 -|              -|              -|              -|      823220133|                 -|              -|              -|              -|      146253279|              -|              -|              -|                 -|                 -|      334194113|              -|              -|              -|              -|              -|              -|                 -|      831924462|              -|              -|     1708636182|                 -|              -|              -|              -|     4373506898|                 -|              -|\n",
      "|c8087c832dde2a1c4...|   54000|           Bank| 2013-14|       Kamal Kashore|        N|   INC|Others| 4031487349|          0|          0|          0|             0|         3785|            0|            0|            0|               0|1065122.1529722589|               0.0|        0.0|               0.0|              0.0|  500000000|          0|          0|          0|             0|General Electoral...|                   0|            0|            0|               0|              -|              -|       28301101|                 -|      320555643|                 -|              -|              -|                 -|              -|       59212492|              -|      121273513|                 -|              -|              -|              -|              -|              -|                 -|       78873451|              -|                 -|              -|              -|      279018460|              -|                 -|              -|              -|      840521238|              -|              -|       80205884|              -|                 -|                 -|              -|              -|       95910664|              -|              -|              -|      117166225|                 -|              -|      595837728|              -|              -|                 -|              -|     1414610950|              -|              -|                 -|              -|\n",
      "|9f2ba6981e36ea0fc...|  100000|           Bank| 2004-05|          R.V Pandit|        N|   BJP|Others|          0| 9295525996|          0|          0|             0|            0|         8782|            0|            0|               0|               0.0|1058474.8344340697|        0.0|               0.0|              0.0|          0|  500000000|          0|          0|             0|                   0|General Electoral...|            0|            0|               0|      116881973|              -|              -|                 -|              -|                 -|              -|      339521289|                 -|       36156111|              -|              -|              -|                 -|       29550672|              -|              -|      249623653|              -|                 -|              -|      306057231|                 -|              -|              -|              -|      823220133|                 -|              -|              -|              -|      146253279|              -|              -|              -|                 -|                 -|      334194113|              -|              -|              -|              -|              -|              -|                 -|      831924462|              -|              -|     1708636182|                 -|              -|              -|              -|     4373506898|                 -|              -|\n",
      "|d8156bae0c4243d37...|  100000|         Others| 2012-13|      A & T Infracon|        N|   BJP|Others|          0| 9295525996|          0|          0|             0|            0|         8782|            0|            0|               0|               0.0|1058474.8344340697|        0.0|               0.0|              0.0|          0|  500000000|          0|          0|             0|                   0|General Electoral...|            0|            0|               0|      116881973|              -|              -|                 -|              -|                 -|              -|      339521289|                 -|       36156111|              -|              -|              -|                 -|       29550672|              -|              -|      249623653|              -|                 -|              -|      306057231|                 -|              -|              -|              -|      823220133|                 -|              -|              -|              -|      146253279|              -|              -|              -|                 -|                 -|      334194113|              -|              -|              -|              -|              -|              -|                 -|      831924462|              -|              -|     1708636182|                 -|              -|              -|              -|     4373506898|                 -|              -|\n",
      "|9ed075605230cbb74...|  300000|         Cheque| 2008-09|A 2 Z online  Ser...|        N|   BJP|Others|          0| 9295525996|          0|          0|             0|            0|         8782|            0|            0|               0|               0.0|1058474.8344340697|        0.0|               0.0|              0.0|          0|  500000000|          0|          0|             0|                   0|General Electoral...|            0|            0|               0|      116881973|              -|              -|                 -|              -|                 -|              -|      339521289|                 -|       36156111|              -|              -|              -|                 -|       29550672|              -|              -|      249623653|              -|                 -|              -|      306057231|                 -|              -|              -|              -|      823220133|                 -|              -|              -|              -|      146253279|              -|              -|              -|                 -|                 -|      334194113|              -|              -|              -|              -|              -|              -|                 -|      831924462|              -|              -|     1708636182|                 -|              -|              -|              -|     4373506898|                 -|              -|\n",
      "|4bc59ca1c387bfd59...|  200000|         Cheque| 2008-09|A 2 Z online  Ser...|        N|   BJP|Others|          0| 9295525996|          0|          0|             0|            0|         8782|            0|            0|               0|               0.0|1058474.8344340697|        0.0|               0.0|              0.0|          0|  500000000|          0|          0|             0|                   0|General Electoral...|            0|            0|               0|      116881973|              -|              -|                 -|              -|                 -|              -|      339521289|                 -|       36156111|              -|              -|              -|                 -|       29550672|              -|              -|      249623653|              -|                 -|              -|      306057231|                 -|              -|              -|              -|      823220133|                 -|              -|              -|              -|      146253279|              -|              -|              -|                 -|                 -|      334194113|              -|              -|              -|              -|              -|              -|                 -|      831924462|              -|              -|     1708636182|                 -|              -|              -|              -|     4373506898|                 -|              -|\n",
      "|4bc59ca1c387bfd59...|  200000|         Cheque| 2008-09|A 2 Z online  Ser...|        N|   BJP|Others|          0| 9295525996|          0|          0|             0|            0|         8782|            0|            0|               0|               0.0|1058474.8344340697|        0.0|               0.0|              0.0|          0|  500000000|          0|          0|             0|                   0|General Electoral...|            0|            0|               0|      116881973|              -|              -|                 -|              -|                 -|              -|      339521289|                 -|       36156111|              -|              -|              -|                 -|       29550672|              -|              -|      249623653|              -|                 -|              -|      306057231|                 -|              -|              -|              -|      823220133|                 -|              -|              -|              -|      146253279|              -|              -|              -|                 -|                 -|      334194113|              -|              -|              -|              -|              -|              -|                 -|      831924462|              -|              -|     1708636182|                 -|              -|              -|              -|     4373506898|                 -|              -|\n",
      "|d8156bae0c4243d37...|  125000|           Bank| 2012-13|A B Rolling Mills...|        N|   BJP|Others|          0| 9295525996|          0|          0|             0|            0|         8782|            0|            0|               0|               0.0|1058474.8344340697|        0.0|               0.0|              0.0|          0|  500000000|          0|          0|             0|                   0|General Electoral...|            0|            0|               0|      116881973|              -|              -|                 -|              -|                 -|              -|      339521289|                 -|       36156111|              -|              -|              -|                 -|       29550672|              -|              -|      249623653|              -|                 -|              -|      306057231|                 -|              -|              -|              -|      823220133|                 -|              -|              -|              -|      146253279|              -|              -|              -|                 -|                 -|      334194113|              -|              -|              -|              -|              -|              -|                 -|      831924462|              -|              -|     1708636182|                 -|              -|              -|              -|     4373506898|                 -|              -|\n",
      "|a68f3334fbfbdf18b...|  100000|           Bank| 2011-12|           A C Dixit|        N|   BJP|Others|          0| 9295525996|          0|          0|             0|            0|         8782|            0|            0|               0|               0.0|1058474.8344340697|        0.0|               0.0|              0.0|          0|  500000000|          0|          0|             0|                   0|General Electoral...|            0|            0|               0|      116881973|              -|              -|                 -|              -|                 -|              -|      339521289|                 -|       36156111|              -|              -|              -|                 -|       29550672|              -|              -|      249623653|              -|                 -|              -|      306057231|                 -|              -|              -|              -|      823220133|                 -|              -|              -|              -|      146253279|              -|              -|              -|                 -|                 -|      334194113|              -|              -|              -|              -|              -|              -|                 -|      831924462|              -|              -|     1708636182|                 -|              -|              -|              -|     4373506898|                 -|              -|\n",
      "|e9552141c8f9ab365...|  100000|           Bank| 2014-15|        A D Builders|        Y|   BJP|Others|          0| 9295525996|          0|          0|             0|            0|         8782|            0|            0|               0|               0.0|1058474.8344340697|        0.0|               0.0|              0.0|          0|  500000000|          0|          0|             0|                   0|General Electoral...|            0|            0|               0|      116881973|              -|              -|                 -|              -|                 -|              -|      339521289|                 -|       36156111|              -|              -|              -|                 -|       29550672|              -|              -|      249623653|              -|                 -|              -|      306057231|                 -|              -|              -|              -|      823220133|                 -|              -|              -|              -|      146253279|              -|              -|              -|                 -|                 -|      334194113|              -|              -|              -|              -|              -|              -|                 -|      831924462|              -|              -|     1708636182|                 -|              -|              -|              -|     4373506898|                 -|              -|\n",
      "|d8156bae0c4243d37...|   21000|         Others| 2012-13|               A Fox|        N|   BJP|Others|          0| 9295525996|          0|          0|             0|            0|         8782|            0|            0|               0|               0.0|1058474.8344340697|        0.0|               0.0|              0.0|          0|  500000000|          0|          0|             0|                   0|General Electoral...|            0|            0|               0|      116881973|              -|              -|                 -|              -|                 -|              -|      339521289|                 -|       36156111|              -|              -|              -|                 -|       29550672|              -|              -|      249623653|              -|                 -|              -|      306057231|                 -|              -|              -|              -|      823220133|                 -|              -|              -|              -|      146253279|              -|              -|              -|                 -|                 -|      334194113|              -|              -|              -|              -|              -|              -|                 -|      831924462|              -|              -|     1708636182|                 -|              -|              -|              -|     4373506898|                 -|              -|\n",
      "|6f87e5d7cdf08271c...|  100000|         Cheque| 2009-10|A Mahendra Jewellers|        Y|   INC|Others| 4031487349|          0|          0|          0|             0|         3785|            0|            0|            0|               0|1065122.1529722589|               0.0|        0.0|               0.0|              0.0|  500000000|          0|          0|          0|             0|General Electoral...|                   0|            0|            0|               0|              -|              -|       28301101|                 -|      320555643|                 -|              -|              -|                 -|              -|       59212492|              -|      121273513|                 -|              -|              -|              -|              -|              -|                 -|       78873451|              -|                 -|              -|              -|      279018460|              -|                 -|              -|              -|      840521238|              -|              -|       80205884|              -|                 -|                 -|              -|              -|       95910664|              -|              -|              -|      117166225|                 -|              -|      595837728|              -|              -|                 -|              -|     1414610950|              -|              -|                 -|              -|\n",
      "+--------------------+--------+---------------+--------+--------------------+---------+------+------+-----------+-----------+-----------+-----------+--------------+-------------+-------------+-------------+-------------+----------------+------------------+------------------+-----------+------------------+-----------------+-----------+-----------+-----------+-----------+--------------+--------------------+--------------------+-------------+-------------+----------------+---------------+---------------+---------------+------------------+---------------+------------------+---------------+---------------+------------------+---------------+---------------+---------------+---------------+------------------+---------------+---------------+---------------+---------------+---------------+------------------+---------------+---------------+------------------+---------------+---------------+---------------+---------------+------------------+---------------+---------------+---------------+---------------+---------------+---------------+---------------+------------------+------------------+---------------+---------------+---------------+---------------+---------------+---------------+---------------+------------------+---------------+---------------+---------------+---------------+------------------+---------------+---------------+---------------+---------------+------------------+---------------+\n",
      "only showing top 20 rows\n",
      "\n"
     ]
    }
   ],
   "source": [
    "for row in sdon.collect():\n",
    "    name = row[1] + \"_\" + row[0] + \"_\" + \"SUM\"\n",
    "    df = df.withColumn(name,lit('-'))\n",
    "    df = df.withColumn(name, when(col(\"Party\") == row[0], row[2])\n",
    "    .otherwise('-'))\n",
    "\n",
    "df.show()"
   ]
  },
  {
   "cell_type": "code",
   "execution_count": 100,
   "metadata": {},
   "outputs": [
    {
     "name": "stdout",
     "output_type": "stream",
     "text": [
      "+---------------+-----+\n",
      "|mode_of_payment|count|\n",
      "+---------------+-----+\n",
      "|           Bank| 7338|\n",
      "|         Cheque| 2781|\n",
      "|           Cash|  918|\n",
      "|         Others| 2536|\n",
      "+---------------+-----+\n",
      "\n"
     ]
    }
   ],
   "source": [
    "ndon = df.groupBy(\"mode_of_payment\").count()\n",
    "ndon.show()"
   ]
  },
  {
   "cell_type": "code",
   "execution_count": 99,
   "metadata": {},
   "outputs": [
    {
     "name": "stdout",
     "output_type": "stream",
     "text": [
      "+---------------+--------------+----------------+--------------+----------------+\n",
      "|mode_of_payment|BANK_COUNT_LTD|CHEQUE_COUNT_LTD|CASH_COUNT_LTD|OTHERS_COUNT_LTD|\n",
      "+---------------+--------------+----------------+--------------+----------------+\n",
      "|           Cash|             -|               -|           918|               -|\n",
      "|           Bank|          7338|               -|             -|               -|\n",
      "|         Cheque|             -|            2781|             -|               -|\n",
      "|           Bank|          7338|               -|             -|               -|\n",
      "|           Bank|          7338|               -|             -|               -|\n",
      "|         Others|             -|               -|             -|            2536|\n",
      "|         Others|             -|               -|             -|            2536|\n",
      "|           Bank|          7338|               -|             -|               -|\n",
      "|         Others|             -|               -|             -|            2536|\n",
      "|           Bank|          7338|               -|             -|               -|\n",
      "|           Bank|          7338|               -|             -|               -|\n",
      "|         Others|             -|               -|             -|            2536|\n",
      "|         Cheque|             -|            2781|             -|               -|\n",
      "|         Cheque|             -|            2781|             -|               -|\n",
      "|         Cheque|             -|            2781|             -|               -|\n",
      "|           Bank|          7338|               -|             -|               -|\n",
      "|           Bank|          7338|               -|             -|               -|\n",
      "|           Bank|          7338|               -|             -|               -|\n",
      "|         Others|             -|               -|             -|            2536|\n",
      "|         Cheque|             -|            2781|             -|               -|\n",
      "+---------------+--------------+----------------+--------------+----------------+\n",
      "only showing top 20 rows\n",
      "\n"
     ]
    }
   ],
   "source": [
    "for row in ndon.collect():\n",
    "    name = row[0] + \"_COUNT_LTD\"\n",
    "    df = df.withColumn(name,lit('-'))\n",
    "    df = df.withColumn(name, when(col(\"mode_of_payment\") == row[0], row[1])\n",
    "    .otherwise('-'))\n",
    "\n",
    "df.select(\"mode_of_payment\",\"BANK_COUNT_LTD\",\"CHEQUE_COUNT_LTD\",\"CASH_COUNT_LTD\",\"OTHERS_COUNT_LTD\").show()"
   ]
  },
  {
   "cell_type": "code",
   "execution_count": 101,
   "metadata": {},
   "outputs": [
    {
     "ename": "Py4JJavaError",
     "evalue": "An error occurred while calling o2558.parquet.\n: java.lang.RuntimeException: java.io.FileNotFoundException: java.io.FileNotFoundException: HADOOP_HOME and hadoop.home.dir are unset. -see https://wiki.apache.org/hadoop/WindowsProblems\r\n\tat org.apache.hadoop.util.Shell.getWinUtilsPath(Shell.java:735)\r\n\tat org.apache.hadoop.util.Shell.getSetPermissionCommand(Shell.java:270)\r\n\tat org.apache.hadoop.util.Shell.getSetPermissionCommand(Shell.java:286)\r\n\tat org.apache.hadoop.fs.RawLocalFileSystem.setPermission(RawLocalFileSystem.java:978)\r\n\tat org.apache.hadoop.fs.RawLocalFileSystem.mkOneDirWithMode(RawLocalFileSystem.java:660)\r\n\tat org.apache.hadoop.fs.RawLocalFileSystem.mkdirsWithOptionalPermission(RawLocalFileSystem.java:700)\r\n\tat org.apache.hadoop.fs.RawLocalFileSystem.mkdirs(RawLocalFileSystem.java:672)\r\n\tat org.apache.hadoop.fs.RawLocalFileSystem.mkdirsWithOptionalPermission(RawLocalFileSystem.java:699)\r\n\tat org.apache.hadoop.fs.RawLocalFileSystem.mkdirs(RawLocalFileSystem.java:672)\r\n\tat org.apache.hadoop.fs.RawLocalFileSystem.mkdirsWithOptionalPermission(RawLocalFileSystem.java:699)\r\n\tat org.apache.hadoop.fs.RawLocalFileSystem.mkdirs(RawLocalFileSystem.java:672)\r\n\tat org.apache.hadoop.fs.ChecksumFileSystem.mkdirs(ChecksumFileSystem.java:788)\r\n\tat org.apache.hadoop.mapreduce.lib.output.FileOutputCommitter.setupJob(FileOutputCommitter.java:356)\r\n\tat org.apache.spark.internal.io.HadoopMapReduceCommitProtocol.setupJob(HadoopMapReduceCommitProtocol.scala:188)\r\n\tat org.apache.spark.sql.execution.datasources.FileFormatWriter$.write(FileFormatWriter.scala:209)\r\n\tat org.apache.spark.sql.execution.datasources.InsertIntoHadoopFsRelationCommand.run(InsertIntoHadoopFsRelationCommand.scala:186)\r\n\tat org.apache.spark.sql.execution.command.DataWritingCommandExec.sideEffectResult$lzycompute(commands.scala:113)\r\n\tat org.apache.spark.sql.execution.command.DataWritingCommandExec.sideEffectResult(commands.scala:111)\r\n\tat org.apache.spark.sql.execution.command.DataWritingCommandExec.executeCollect(commands.scala:125)\r\n\tat org.apache.spark.sql.execution.QueryExecution$$anonfun$eagerlyExecuteCommands$1.$anonfun$applyOrElse$1(QueryExecution.scala:98)\r\n\tat org.apache.spark.sql.execution.SQLExecution$.$anonfun$withNewExecutionId$6(SQLExecution.scala:109)\r\n\tat org.apache.spark.sql.execution.SQLExecution$.withSQLConfPropagated(SQLExecution.scala:169)\r\n\tat org.apache.spark.sql.execution.SQLExecution$.$anonfun$withNewExecutionId$1(SQLExecution.scala:95)\r\n\tat org.apache.spark.sql.SparkSession.withActive(SparkSession.scala:779)\r\n\tat org.apache.spark.sql.execution.SQLExecution$.withNewExecutionId(SQLExecution.scala:64)\r\n\tat org.apache.spark.sql.execution.QueryExecution$$anonfun$eagerlyExecuteCommands$1.applyOrElse(QueryExecution.scala:98)\r\n\tat org.apache.spark.sql.execution.QueryExecution$$anonfun$eagerlyExecuteCommands$1.applyOrElse(QueryExecution.scala:94)\r\n\tat org.apache.spark.sql.catalyst.trees.TreeNode.$anonfun$transformDownWithPruning$1(TreeNode.scala:584)\r\n\tat org.apache.spark.sql.catalyst.trees.CurrentOrigin$.withOrigin(TreeNode.scala:176)\r\n\tat org.apache.spark.sql.catalyst.trees.TreeNode.transformDownWithPruning(TreeNode.scala:584)\r\n\tat org.apache.spark.sql.catalyst.plans.logical.LogicalPlan.org$apache$spark$sql$catalyst$plans$logical$AnalysisHelper$$super$transformDownWithPruning(LogicalPlan.scala:30)\r\n\tat org.apache.spark.sql.catalyst.plans.logical.AnalysisHelper.transformDownWithPruning(AnalysisHelper.scala:267)\r\n\tat org.apache.spark.sql.catalyst.plans.logical.AnalysisHelper.transformDownWithPruning$(AnalysisHelper.scala:263)\r\n\tat org.apache.spark.sql.catalyst.plans.logical.LogicalPlan.transformDownWithPruning(LogicalPlan.scala:30)\r\n\tat org.apache.spark.sql.catalyst.plans.logical.LogicalPlan.transformDownWithPruning(LogicalPlan.scala:30)\r\n\tat org.apache.spark.sql.catalyst.trees.TreeNode.transformDown(TreeNode.scala:560)\r\n\tat org.apache.spark.sql.execution.QueryExecution.eagerlyExecuteCommands(QueryExecution.scala:94)\r\n\tat org.apache.spark.sql.execution.QueryExecution.commandExecuted$lzycompute(QueryExecution.scala:81)\r\n\tat org.apache.spark.sql.execution.QueryExecution.commandExecuted(QueryExecution.scala:79)\r\n\tat org.apache.spark.sql.execution.QueryExecution.assertCommandExecuted(QueryExecution.scala:116)\r\n\tat org.apache.spark.sql.DataFrameWriter.runCommand(DataFrameWriter.scala:860)\r\n\tat org.apache.spark.sql.DataFrameWriter.saveToV1Source(DataFrameWriter.scala:390)\r\n\tat org.apache.spark.sql.DataFrameWriter.saveInternal(DataFrameWriter.scala:363)\r\n\tat org.apache.spark.sql.DataFrameWriter.save(DataFrameWriter.scala:239)\r\n\tat org.apache.spark.sql.DataFrameWriter.parquet(DataFrameWriter.scala:793)\r\n\tat sun.reflect.NativeMethodAccessorImpl.invoke0(Native Method)\r\n\tat sun.reflect.NativeMethodAccessorImpl.invoke(Unknown Source)\r\n\tat sun.reflect.DelegatingMethodAccessorImpl.invoke(Unknown Source)\r\n\tat java.lang.reflect.Method.invoke(Unknown Source)\r\n\tat py4j.reflection.MethodInvoker.invoke(MethodInvoker.java:244)\r\n\tat py4j.reflection.ReflectionEngine.invoke(ReflectionEngine.java:357)\r\n\tat py4j.Gateway.invoke(Gateway.java:282)\r\n\tat py4j.commands.AbstractCommand.invokeMethod(AbstractCommand.java:132)\r\n\tat py4j.commands.CallCommand.execute(CallCommand.java:79)\r\n\tat py4j.ClientServerConnection.waitForCommands(ClientServerConnection.java:182)\r\n\tat py4j.ClientServerConnection.run(ClientServerConnection.java:106)\r\n\tat java.lang.Thread.run(Unknown Source)\r\nCaused by: java.io.FileNotFoundException: java.io.FileNotFoundException: HADOOP_HOME and hadoop.home.dir are unset. -see https://wiki.apache.org/hadoop/WindowsProblems\r\n\tat org.apache.hadoop.util.Shell.fileNotFoundException(Shell.java:547)\r\n\tat org.apache.hadoop.util.Shell.getHadoopHomeDir(Shell.java:568)\r\n\tat org.apache.hadoop.util.Shell.getQualifiedBin(Shell.java:591)\r\n\tat org.apache.hadoop.util.Shell.<clinit>(Shell.java:688)\r\n\tat org.apache.hadoop.util.StringUtils.<clinit>(StringUtils.java:79)\r\n\tat org.apache.hadoop.conf.Configuration.getTimeDurationHelper(Configuration.java:1907)\r\n\tat org.apache.hadoop.conf.Configuration.getTimeDuration(Configuration.java:1867)\r\n\tat org.apache.hadoop.conf.Configuration.getTimeDuration(Configuration.java:1840)\r\n\tat org.apache.hadoop.util.ShutdownHookManager.getShutdownTimeout(ShutdownHookManager.java:183)\r\n\tat org.apache.hadoop.util.ShutdownHookManager$HookEntry.<init>(ShutdownHookManager.java:207)\r\n\tat org.apache.hadoop.util.ShutdownHookManager.addShutdownHook(ShutdownHookManager.java:304)\r\n\tat org.apache.spark.util.SparkShutdownHookManager.install(ShutdownHookManager.scala:181)\r\n\tat org.apache.spark.util.ShutdownHookManager$.shutdownHooks$lzycompute(ShutdownHookManager.scala:50)\r\n\tat org.apache.spark.util.ShutdownHookManager$.shutdownHooks(ShutdownHookManager.scala:48)\r\n\tat org.apache.spark.util.ShutdownHookManager$.addShutdownHook(ShutdownHookManager.scala:153)\r\n\tat org.apache.spark.util.ShutdownHookManager$.<init>(ShutdownHookManager.scala:58)\r\n\tat org.apache.spark.util.ShutdownHookManager$.<clinit>(ShutdownHookManager.scala)\r\n\tat org.apache.spark.util.Utils$.createTempDir(Utils.scala:343)\r\n\tat org.apache.spark.deploy.SparkSubmit.prepareSubmitEnvironment(SparkSubmit.scala:344)\r\n\tat org.apache.spark.deploy.SparkSubmit.org$apache$spark$deploy$SparkSubmit$$runMain(SparkSubmit.scala:901)\r\n\tat org.apache.spark.deploy.SparkSubmit.doRunMain$1(SparkSubmit.scala:180)\r\n\tat org.apache.spark.deploy.SparkSubmit.submit(SparkSubmit.scala:203)\r\n\tat org.apache.spark.deploy.SparkSubmit.doSubmit(SparkSubmit.scala:90)\r\n\tat org.apache.spark.deploy.SparkSubmit$$anon$2.doSubmit(SparkSubmit.scala:1046)\r\n\tat org.apache.spark.deploy.SparkSubmit$.main(SparkSubmit.scala:1055)\r\n\tat org.apache.spark.deploy.SparkSubmit.main(SparkSubmit.scala)\r\nCaused by: java.io.FileNotFoundException: HADOOP_HOME and hadoop.home.dir are unset.\r\n\tat org.apache.hadoop.util.Shell.checkHadoopHomeInner(Shell.java:467)\r\n\tat org.apache.hadoop.util.Shell.checkHadoopHome(Shell.java:438)\r\n\tat org.apache.hadoop.util.Shell.<clinit>(Shell.java:515)\r\n\t... 22 more\r\n",
     "output_type": "error",
     "traceback": [
      "\u001b[1;31m---------------------------------------------------------------------------\u001b[0m",
      "\u001b[1;31mPy4JJavaError\u001b[0m                             Traceback (most recent call last)",
      "\u001b[1;32mc:\\Users\\apidap\\Desktop\\Data_Engineering\\Politics.ipynb Cell 25\u001b[0m in \u001b[0;36m<cell line: 1>\u001b[1;34m()\u001b[0m\n\u001b[1;32m----> <a href='vscode-notebook-cell:/c%3A/Users/apidap/Desktop/Data_Engineering/Politics.ipynb#ch0000026?line=0'>1</a>\u001b[0m df\u001b[39m.\u001b[39;49mwrite\u001b[39m.\u001b[39;49mparquet(\u001b[39m\"\u001b[39;49m\u001b[39mdonations.parquet\u001b[39;49m\u001b[39m\"\u001b[39;49m)\n",
      "File \u001b[1;32mc:\\Users\\apidap\\AppData\\Local\\Programs\\Python\\Python39\\lib\\site-packages\\pyspark\\sql\\readwriter.py:1140\u001b[0m, in \u001b[0;36mDataFrameWriter.parquet\u001b[1;34m(self, path, mode, partitionBy, compression)\u001b[0m\n\u001b[0;32m   1138\u001b[0m     \u001b[39mself\u001b[39m\u001b[39m.\u001b[39mpartitionBy(partitionBy)\n\u001b[0;32m   1139\u001b[0m \u001b[39mself\u001b[39m\u001b[39m.\u001b[39m_set_opts(compression\u001b[39m=\u001b[39mcompression)\n\u001b[1;32m-> 1140\u001b[0m \u001b[39mself\u001b[39;49m\u001b[39m.\u001b[39;49m_jwrite\u001b[39m.\u001b[39;49mparquet(path)\n",
      "File \u001b[1;32mc:\\Users\\apidap\\AppData\\Local\\Programs\\Python\\Python39\\lib\\site-packages\\py4j\\java_gateway.py:1321\u001b[0m, in \u001b[0;36mJavaMember.__call__\u001b[1;34m(self, *args)\u001b[0m\n\u001b[0;32m   1315\u001b[0m command \u001b[39m=\u001b[39m proto\u001b[39m.\u001b[39mCALL_COMMAND_NAME \u001b[39m+\u001b[39m\\\n\u001b[0;32m   1316\u001b[0m     \u001b[39mself\u001b[39m\u001b[39m.\u001b[39mcommand_header \u001b[39m+\u001b[39m\\\n\u001b[0;32m   1317\u001b[0m     args_command \u001b[39m+\u001b[39m\\\n\u001b[0;32m   1318\u001b[0m     proto\u001b[39m.\u001b[39mEND_COMMAND_PART\n\u001b[0;32m   1320\u001b[0m answer \u001b[39m=\u001b[39m \u001b[39mself\u001b[39m\u001b[39m.\u001b[39mgateway_client\u001b[39m.\u001b[39msend_command(command)\n\u001b[1;32m-> 1321\u001b[0m return_value \u001b[39m=\u001b[39m get_return_value(\n\u001b[0;32m   1322\u001b[0m     answer, \u001b[39mself\u001b[39;49m\u001b[39m.\u001b[39;49mgateway_client, \u001b[39mself\u001b[39;49m\u001b[39m.\u001b[39;49mtarget_id, \u001b[39mself\u001b[39;49m\u001b[39m.\u001b[39;49mname)\n\u001b[0;32m   1324\u001b[0m \u001b[39mfor\u001b[39;00m temp_arg \u001b[39min\u001b[39;00m temp_args:\n\u001b[0;32m   1325\u001b[0m     temp_arg\u001b[39m.\u001b[39m_detach()\n",
      "File \u001b[1;32mc:\\Users\\apidap\\AppData\\Local\\Programs\\Python\\Python39\\lib\\site-packages\\pyspark\\sql\\utils.py:190\u001b[0m, in \u001b[0;36mcapture_sql_exception.<locals>.deco\u001b[1;34m(*a, **kw)\u001b[0m\n\u001b[0;32m    188\u001b[0m \u001b[39mdef\u001b[39;00m \u001b[39mdeco\u001b[39m(\u001b[39m*\u001b[39ma: Any, \u001b[39m*\u001b[39m\u001b[39m*\u001b[39mkw: Any) \u001b[39m-\u001b[39m\u001b[39m>\u001b[39m Any:\n\u001b[0;32m    189\u001b[0m     \u001b[39mtry\u001b[39;00m:\n\u001b[1;32m--> 190\u001b[0m         \u001b[39mreturn\u001b[39;00m f(\u001b[39m*\u001b[39ma, \u001b[39m*\u001b[39m\u001b[39m*\u001b[39mkw)\n\u001b[0;32m    191\u001b[0m     \u001b[39mexcept\u001b[39;00m Py4JJavaError \u001b[39mas\u001b[39;00m e:\n\u001b[0;32m    192\u001b[0m         converted \u001b[39m=\u001b[39m convert_exception(e\u001b[39m.\u001b[39mjava_exception)\n",
      "File \u001b[1;32mc:\\Users\\apidap\\AppData\\Local\\Programs\\Python\\Python39\\lib\\site-packages\\py4j\\protocol.py:326\u001b[0m, in \u001b[0;36mget_return_value\u001b[1;34m(answer, gateway_client, target_id, name)\u001b[0m\n\u001b[0;32m    324\u001b[0m value \u001b[39m=\u001b[39m OUTPUT_CONVERTER[\u001b[39mtype\u001b[39m](answer[\u001b[39m2\u001b[39m:], gateway_client)\n\u001b[0;32m    325\u001b[0m \u001b[39mif\u001b[39;00m answer[\u001b[39m1\u001b[39m] \u001b[39m==\u001b[39m REFERENCE_TYPE:\n\u001b[1;32m--> 326\u001b[0m     \u001b[39mraise\u001b[39;00m Py4JJavaError(\n\u001b[0;32m    327\u001b[0m         \u001b[39m\"\u001b[39m\u001b[39mAn error occurred while calling \u001b[39m\u001b[39m{0}\u001b[39;00m\u001b[39m{1}\u001b[39;00m\u001b[39m{2}\u001b[39;00m\u001b[39m.\u001b[39m\u001b[39m\\n\u001b[39;00m\u001b[39m\"\u001b[39m\u001b[39m.\u001b[39m\n\u001b[0;32m    328\u001b[0m         \u001b[39mformat\u001b[39m(target_id, \u001b[39m\"\u001b[39m\u001b[39m.\u001b[39m\u001b[39m\"\u001b[39m, name), value)\n\u001b[0;32m    329\u001b[0m \u001b[39melse\u001b[39;00m:\n\u001b[0;32m    330\u001b[0m     \u001b[39mraise\u001b[39;00m Py4JError(\n\u001b[0;32m    331\u001b[0m         \u001b[39m\"\u001b[39m\u001b[39mAn error occurred while calling \u001b[39m\u001b[39m{0}\u001b[39;00m\u001b[39m{1}\u001b[39;00m\u001b[39m{2}\u001b[39;00m\u001b[39m. Trace:\u001b[39m\u001b[39m\\n\u001b[39;00m\u001b[39m{3}\u001b[39;00m\u001b[39m\\n\u001b[39;00m\u001b[39m\"\u001b[39m\u001b[39m.\u001b[39m\n\u001b[0;32m    332\u001b[0m         \u001b[39mformat\u001b[39m(target_id, \u001b[39m\"\u001b[39m\u001b[39m.\u001b[39m\u001b[39m\"\u001b[39m, name, value))\n",
      "\u001b[1;31mPy4JJavaError\u001b[0m: An error occurred while calling o2558.parquet.\n: java.lang.RuntimeException: java.io.FileNotFoundException: java.io.FileNotFoundException: HADOOP_HOME and hadoop.home.dir are unset. -see https://wiki.apache.org/hadoop/WindowsProblems\r\n\tat org.apache.hadoop.util.Shell.getWinUtilsPath(Shell.java:735)\r\n\tat org.apache.hadoop.util.Shell.getSetPermissionCommand(Shell.java:270)\r\n\tat org.apache.hadoop.util.Shell.getSetPermissionCommand(Shell.java:286)\r\n\tat org.apache.hadoop.fs.RawLocalFileSystem.setPermission(RawLocalFileSystem.java:978)\r\n\tat org.apache.hadoop.fs.RawLocalFileSystem.mkOneDirWithMode(RawLocalFileSystem.java:660)\r\n\tat org.apache.hadoop.fs.RawLocalFileSystem.mkdirsWithOptionalPermission(RawLocalFileSystem.java:700)\r\n\tat org.apache.hadoop.fs.RawLocalFileSystem.mkdirs(RawLocalFileSystem.java:672)\r\n\tat org.apache.hadoop.fs.RawLocalFileSystem.mkdirsWithOptionalPermission(RawLocalFileSystem.java:699)\r\n\tat org.apache.hadoop.fs.RawLocalFileSystem.mkdirs(RawLocalFileSystem.java:672)\r\n\tat org.apache.hadoop.fs.RawLocalFileSystem.mkdirsWithOptionalPermission(RawLocalFileSystem.java:699)\r\n\tat org.apache.hadoop.fs.RawLocalFileSystem.mkdirs(RawLocalFileSystem.java:672)\r\n\tat org.apache.hadoop.fs.ChecksumFileSystem.mkdirs(ChecksumFileSystem.java:788)\r\n\tat org.apache.hadoop.mapreduce.lib.output.FileOutputCommitter.setupJob(FileOutputCommitter.java:356)\r\n\tat org.apache.spark.internal.io.HadoopMapReduceCommitProtocol.setupJob(HadoopMapReduceCommitProtocol.scala:188)\r\n\tat org.apache.spark.sql.execution.datasources.FileFormatWriter$.write(FileFormatWriter.scala:209)\r\n\tat org.apache.spark.sql.execution.datasources.InsertIntoHadoopFsRelationCommand.run(InsertIntoHadoopFsRelationCommand.scala:186)\r\n\tat org.apache.spark.sql.execution.command.DataWritingCommandExec.sideEffectResult$lzycompute(commands.scala:113)\r\n\tat org.apache.spark.sql.execution.command.DataWritingCommandExec.sideEffectResult(commands.scala:111)\r\n\tat org.apache.spark.sql.execution.command.DataWritingCommandExec.executeCollect(commands.scala:125)\r\n\tat org.apache.spark.sql.execution.QueryExecution$$anonfun$eagerlyExecuteCommands$1.$anonfun$applyOrElse$1(QueryExecution.scala:98)\r\n\tat org.apache.spark.sql.execution.SQLExecution$.$anonfun$withNewExecutionId$6(SQLExecution.scala:109)\r\n\tat org.apache.spark.sql.execution.SQLExecution$.withSQLConfPropagated(SQLExecution.scala:169)\r\n\tat org.apache.spark.sql.execution.SQLExecution$.$anonfun$withNewExecutionId$1(SQLExecution.scala:95)\r\n\tat org.apache.spark.sql.SparkSession.withActive(SparkSession.scala:779)\r\n\tat org.apache.spark.sql.execution.SQLExecution$.withNewExecutionId(SQLExecution.scala:64)\r\n\tat org.apache.spark.sql.execution.QueryExecution$$anonfun$eagerlyExecuteCommands$1.applyOrElse(QueryExecution.scala:98)\r\n\tat org.apache.spark.sql.execution.QueryExecution$$anonfun$eagerlyExecuteCommands$1.applyOrElse(QueryExecution.scala:94)\r\n\tat org.apache.spark.sql.catalyst.trees.TreeNode.$anonfun$transformDownWithPruning$1(TreeNode.scala:584)\r\n\tat org.apache.spark.sql.catalyst.trees.CurrentOrigin$.withOrigin(TreeNode.scala:176)\r\n\tat org.apache.spark.sql.catalyst.trees.TreeNode.transformDownWithPruning(TreeNode.scala:584)\r\n\tat org.apache.spark.sql.catalyst.plans.logical.LogicalPlan.org$apache$spark$sql$catalyst$plans$logical$AnalysisHelper$$super$transformDownWithPruning(LogicalPlan.scala:30)\r\n\tat org.apache.spark.sql.catalyst.plans.logical.AnalysisHelper.transformDownWithPruning(AnalysisHelper.scala:267)\r\n\tat org.apache.spark.sql.catalyst.plans.logical.AnalysisHelper.transformDownWithPruning$(AnalysisHelper.scala:263)\r\n\tat org.apache.spark.sql.catalyst.plans.logical.LogicalPlan.transformDownWithPruning(LogicalPlan.scala:30)\r\n\tat org.apache.spark.sql.catalyst.plans.logical.LogicalPlan.transformDownWithPruning(LogicalPlan.scala:30)\r\n\tat org.apache.spark.sql.catalyst.trees.TreeNode.transformDown(TreeNode.scala:560)\r\n\tat org.apache.spark.sql.execution.QueryExecution.eagerlyExecuteCommands(QueryExecution.scala:94)\r\n\tat org.apache.spark.sql.execution.QueryExecution.commandExecuted$lzycompute(QueryExecution.scala:81)\r\n\tat org.apache.spark.sql.execution.QueryExecution.commandExecuted(QueryExecution.scala:79)\r\n\tat org.apache.spark.sql.execution.QueryExecution.assertCommandExecuted(QueryExecution.scala:116)\r\n\tat org.apache.spark.sql.DataFrameWriter.runCommand(DataFrameWriter.scala:860)\r\n\tat org.apache.spark.sql.DataFrameWriter.saveToV1Source(DataFrameWriter.scala:390)\r\n\tat org.apache.spark.sql.DataFrameWriter.saveInternal(DataFrameWriter.scala:363)\r\n\tat org.apache.spark.sql.DataFrameWriter.save(DataFrameWriter.scala:239)\r\n\tat org.apache.spark.sql.DataFrameWriter.parquet(DataFrameWriter.scala:793)\r\n\tat sun.reflect.NativeMethodAccessorImpl.invoke0(Native Method)\r\n\tat sun.reflect.NativeMethodAccessorImpl.invoke(Unknown Source)\r\n\tat sun.reflect.DelegatingMethodAccessorImpl.invoke(Unknown Source)\r\n\tat java.lang.reflect.Method.invoke(Unknown Source)\r\n\tat py4j.reflection.MethodInvoker.invoke(MethodInvoker.java:244)\r\n\tat py4j.reflection.ReflectionEngine.invoke(ReflectionEngine.java:357)\r\n\tat py4j.Gateway.invoke(Gateway.java:282)\r\n\tat py4j.commands.AbstractCommand.invokeMethod(AbstractCommand.java:132)\r\n\tat py4j.commands.CallCommand.execute(CallCommand.java:79)\r\n\tat py4j.ClientServerConnection.waitForCommands(ClientServerConnection.java:182)\r\n\tat py4j.ClientServerConnection.run(ClientServerConnection.java:106)\r\n\tat java.lang.Thread.run(Unknown Source)\r\nCaused by: java.io.FileNotFoundException: java.io.FileNotFoundException: HADOOP_HOME and hadoop.home.dir are unset. -see https://wiki.apache.org/hadoop/WindowsProblems\r\n\tat org.apache.hadoop.util.Shell.fileNotFoundException(Shell.java:547)\r\n\tat org.apache.hadoop.util.Shell.getHadoopHomeDir(Shell.java:568)\r\n\tat org.apache.hadoop.util.Shell.getQualifiedBin(Shell.java:591)\r\n\tat org.apache.hadoop.util.Shell.<clinit>(Shell.java:688)\r\n\tat org.apache.hadoop.util.StringUtils.<clinit>(StringUtils.java:79)\r\n\tat org.apache.hadoop.conf.Configuration.getTimeDurationHelper(Configuration.java:1907)\r\n\tat org.apache.hadoop.conf.Configuration.getTimeDuration(Configuration.java:1867)\r\n\tat org.apache.hadoop.conf.Configuration.getTimeDuration(Configuration.java:1840)\r\n\tat org.apache.hadoop.util.ShutdownHookManager.getShutdownTimeout(ShutdownHookManager.java:183)\r\n\tat org.apache.hadoop.util.ShutdownHookManager$HookEntry.<init>(ShutdownHookManager.java:207)\r\n\tat org.apache.hadoop.util.ShutdownHookManager.addShutdownHook(ShutdownHookManager.java:304)\r\n\tat org.apache.spark.util.SparkShutdownHookManager.install(ShutdownHookManager.scala:181)\r\n\tat org.apache.spark.util.ShutdownHookManager$.shutdownHooks$lzycompute(ShutdownHookManager.scala:50)\r\n\tat org.apache.spark.util.ShutdownHookManager$.shutdownHooks(ShutdownHookManager.scala:48)\r\n\tat org.apache.spark.util.ShutdownHookManager$.addShutdownHook(ShutdownHookManager.scala:153)\r\n\tat org.apache.spark.util.ShutdownHookManager$.<init>(ShutdownHookManager.scala:58)\r\n\tat org.apache.spark.util.ShutdownHookManager$.<clinit>(ShutdownHookManager.scala)\r\n\tat org.apache.spark.util.Utils$.createTempDir(Utils.scala:343)\r\n\tat org.apache.spark.deploy.SparkSubmit.prepareSubmitEnvironment(SparkSubmit.scala:344)\r\n\tat org.apache.spark.deploy.SparkSubmit.org$apache$spark$deploy$SparkSubmit$$runMain(SparkSubmit.scala:901)\r\n\tat org.apache.spark.deploy.SparkSubmit.doRunMain$1(SparkSubmit.scala:180)\r\n\tat org.apache.spark.deploy.SparkSubmit.submit(SparkSubmit.scala:203)\r\n\tat org.apache.spark.deploy.SparkSubmit.doSubmit(SparkSubmit.scala:90)\r\n\tat org.apache.spark.deploy.SparkSubmit$$anon$2.doSubmit(SparkSubmit.scala:1046)\r\n\tat org.apache.spark.deploy.SparkSubmit$.main(SparkSubmit.scala:1055)\r\n\tat org.apache.spark.deploy.SparkSubmit.main(SparkSubmit.scala)\r\nCaused by: java.io.FileNotFoundException: HADOOP_HOME and hadoop.home.dir are unset.\r\n\tat org.apache.hadoop.util.Shell.checkHadoopHomeInner(Shell.java:467)\r\n\tat org.apache.hadoop.util.Shell.checkHadoopHome(Shell.java:438)\r\n\tat org.apache.hadoop.util.Shell.<clinit>(Shell.java:515)\r\n\t... 22 more\r\n"
     ]
    }
   ],
   "source": [
    "df.write.parquet(\"donations.parquet\")"
   ]
  },
  {
   "cell_type": "code",
   "execution_count": null,
   "metadata": {},
   "outputs": [],
   "source": []
  }
 ],
 "metadata": {
  "kernelspec": {
   "display_name": "Python 3.9.13 64-bit",
   "language": "python",
   "name": "python3"
  },
  "language_info": {
   "codemirror_mode": {
    "name": "ipython",
    "version": 3
   },
   "file_extension": ".py",
   "mimetype": "text/x-python",
   "name": "python",
   "nbconvert_exporter": "python",
   "pygments_lexer": "ipython3",
   "version": "3.9.13"
  },
  "orig_nbformat": 4,
  "vscode": {
   "interpreter": {
    "hash": "0b271b5be8c2a16ef5f4bd0ffbf309bea8a31585d5e8cfc361cd652ff7a640b3"
   }
  }
 },
 "nbformat": 4,
 "nbformat_minor": 2
}
